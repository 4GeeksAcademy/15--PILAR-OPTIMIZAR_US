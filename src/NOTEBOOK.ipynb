{
 "cells": [
  {
   "cell_type": "markdown",
   "metadata": {},
   "source": [
    "# CARGO DATOS"
   ]
  },
  {
   "cell_type": "code",
   "execution_count": 12,
   "metadata": {},
   "outputs": [
    {
     "data": {
      "application/vnd.microsoft.datawrangler.viewer.v0+json": {
       "columns": [
        {
         "name": "index",
         "rawType": "int64",
         "type": "integer"
        },
        {
         "name": "fips",
         "rawType": "int64",
         "type": "integer"
        },
        {
         "name": "TOT_POP",
         "rawType": "int64",
         "type": "integer"
        },
        {
         "name": "0-9",
         "rawType": "int64",
         "type": "integer"
        },
        {
         "name": "0-9 y/o % of total pop",
         "rawType": "float64",
         "type": "float"
        },
        {
         "name": "19-Oct",
         "rawType": "int64",
         "type": "integer"
        },
        {
         "name": "10-19 y/o % of total pop",
         "rawType": "float64",
         "type": "float"
        },
        {
         "name": "20-29",
         "rawType": "int64",
         "type": "integer"
        },
        {
         "name": "20-29 y/o % of total pop",
         "rawType": "float64",
         "type": "float"
        },
        {
         "name": "30-39",
         "rawType": "int64",
         "type": "integer"
        },
        {
         "name": "30-39 y/o % of total pop",
         "rawType": "float64",
         "type": "float"
        },
        {
         "name": "40-49",
         "rawType": "int64",
         "type": "integer"
        },
        {
         "name": "40-49 y/o % of total pop",
         "rawType": "float64",
         "type": "float"
        },
        {
         "name": "50-59",
         "rawType": "int64",
         "type": "integer"
        },
        {
         "name": "50-59 y/o % of total pop",
         "rawType": "float64",
         "type": "float"
        },
        {
         "name": "60-69",
         "rawType": "int64",
         "type": "integer"
        },
        {
         "name": "60-69 y/o % of total pop",
         "rawType": "float64",
         "type": "float"
        },
        {
         "name": "70-79",
         "rawType": "int64",
         "type": "integer"
        },
        {
         "name": "70-79 y/o % of total pop",
         "rawType": "float64",
         "type": "float"
        },
        {
         "name": "80+",
         "rawType": "int64",
         "type": "integer"
        },
        {
         "name": "80+ y/o % of total pop",
         "rawType": "float64",
         "type": "float"
        },
        {
         "name": "White-alone pop",
         "rawType": "int64",
         "type": "integer"
        },
        {
         "name": "% White-alone",
         "rawType": "float64",
         "type": "float"
        },
        {
         "name": "Black-alone pop",
         "rawType": "int64",
         "type": "integer"
        },
        {
         "name": "% Black-alone",
         "rawType": "float64",
         "type": "float"
        },
        {
         "name": "Native American/American Indian-alone pop",
         "rawType": "int64",
         "type": "integer"
        },
        {
         "name": "% NA/AI-alone",
         "rawType": "float64",
         "type": "float"
        },
        {
         "name": "Asian-alone pop",
         "rawType": "int64",
         "type": "integer"
        },
        {
         "name": "% Asian-alone",
         "rawType": "float64",
         "type": "float"
        },
        {
         "name": "Hawaiian/Pacific Islander-alone pop",
         "rawType": "int64",
         "type": "integer"
        },
        {
         "name": "% Hawaiian/PI-alone",
         "rawType": "float64",
         "type": "float"
        },
        {
         "name": "Two or more races pop",
         "rawType": "int64",
         "type": "integer"
        },
        {
         "name": "% Two or more races",
         "rawType": "float64",
         "type": "float"
        },
        {
         "name": "POP_ESTIMATE_2018",
         "rawType": "int64",
         "type": "integer"
        },
        {
         "name": "N_POP_CHG_2018",
         "rawType": "int64",
         "type": "integer"
        },
        {
         "name": "GQ_ESTIMATES_2018",
         "rawType": "int64",
         "type": "integer"
        },
        {
         "name": "R_birth_2018",
         "rawType": "float64",
         "type": "float"
        },
        {
         "name": "R_death_2018",
         "rawType": "float64",
         "type": "float"
        },
        {
         "name": "R_NATURAL_INC_2018",
         "rawType": "float64",
         "type": "float"
        },
        {
         "name": "R_INTERNATIONAL_MIG_2018",
         "rawType": "float64",
         "type": "float"
        },
        {
         "name": "R_DOMESTIC_MIG_2018",
         "rawType": "float64",
         "type": "float"
        },
        {
         "name": "R_NET_MIG_2018",
         "rawType": "float64",
         "type": "float"
        },
        {
         "name": "Less than a high school diploma 2014-18",
         "rawType": "int64",
         "type": "integer"
        },
        {
         "name": "High school diploma only 2014-18",
         "rawType": "int64",
         "type": "integer"
        },
        {
         "name": "Some college or associate's degree 2014-18",
         "rawType": "int64",
         "type": "integer"
        },
        {
         "name": "Bachelor's degree or higher 2014-18",
         "rawType": "int64",
         "type": "integer"
        },
        {
         "name": "Percent of adults with less than a high school diploma 2014-18",
         "rawType": "float64",
         "type": "float"
        },
        {
         "name": "Percent of adults with a high school diploma only 2014-18",
         "rawType": "float64",
         "type": "float"
        },
        {
         "name": "Percent of adults completing some college or associate's degree 2014-18",
         "rawType": "float64",
         "type": "float"
        },
        {
         "name": "Percent of adults with a bachelor's degree or higher 2014-18",
         "rawType": "float64",
         "type": "float"
        },
        {
         "name": "POVALL_2018",
         "rawType": "int64",
         "type": "integer"
        },
        {
         "name": "PCTPOVALL_2018",
         "rawType": "float64",
         "type": "float"
        },
        {
         "name": "PCTPOV017_2018",
         "rawType": "float64",
         "type": "float"
        },
        {
         "name": "PCTPOV517_2018",
         "rawType": "float64",
         "type": "float"
        },
        {
         "name": "MEDHHINC_2018",
         "rawType": "int64",
         "type": "integer"
        },
        {
         "name": "CI90LBINC_2018",
         "rawType": "int64",
         "type": "integer"
        },
        {
         "name": "CI90UBINC_2018",
         "rawType": "int64",
         "type": "integer"
        },
        {
         "name": "Civilian_labor_force_2018",
         "rawType": "int64",
         "type": "integer"
        },
        {
         "name": "Employed_2018",
         "rawType": "int64",
         "type": "integer"
        },
        {
         "name": "Unemployed_2018",
         "rawType": "int64",
         "type": "integer"
        },
        {
         "name": "Unemployment_rate_2018",
         "rawType": "float64",
         "type": "float"
        },
        {
         "name": "Median_Household_Income_2018",
         "rawType": "int64",
         "type": "integer"
        },
        {
         "name": "Med_HH_Income_Percent_of_State_Total_2018",
         "rawType": "float64",
         "type": "float"
        },
        {
         "name": "Active Physicians per 100000 Population 2018 (AAMC)",
         "rawType": "float64",
         "type": "float"
        },
        {
         "name": "Total Active Patient Care Physicians per 100000 Population 2018 (AAMC)",
         "rawType": "float64",
         "type": "float"
        },
        {
         "name": "Active Primary Care Physicians per 100000 Population 2018 (AAMC)",
         "rawType": "float64",
         "type": "float"
        },
        {
         "name": "Active Patient Care Primary Care Physicians per 100000 Population 2018 (AAMC)",
         "rawType": "float64",
         "type": "float"
        },
        {
         "name": "Active General Surgeons per 100000 Population 2018 (AAMC)",
         "rawType": "float64",
         "type": "float"
        },
        {
         "name": "Active Patient Care General Surgeons per 100000 Population 2018 (AAMC)",
         "rawType": "float64",
         "type": "float"
        },
        {
         "name": "Total nurse practitioners (2019)",
         "rawType": "float64",
         "type": "float"
        },
        {
         "name": "Total physician assistants (2019)",
         "rawType": "float64",
         "type": "float"
        },
        {
         "name": "Total Hospitals (2019)",
         "rawType": "float64",
         "type": "float"
        },
        {
         "name": "Internal Medicine Primary Care (2019)",
         "rawType": "float64",
         "type": "float"
        },
        {
         "name": "Family Medicine/General Practice Primary Care (2019)",
         "rawType": "float64",
         "type": "float"
        },
        {
         "name": "Total Specialist Physicians (2019)",
         "rawType": "float64",
         "type": "float"
        },
        {
         "name": "ICU Beds_x",
         "rawType": "int64",
         "type": "integer"
        },
        {
         "name": "Total Population",
         "rawType": "int64",
         "type": "integer"
        },
        {
         "name": "Population Aged 60+",
         "rawType": "int64",
         "type": "integer"
        },
        {
         "name": "Percent of Population Aged 60+",
         "rawType": "float64",
         "type": "float"
        },
        {
         "name": "COUNTY_NAME",
         "rawType": "object",
         "type": "string"
        },
        {
         "name": "STATE_NAME",
         "rawType": "object",
         "type": "string"
        },
        {
         "name": "STATE_FIPS",
         "rawType": "int64",
         "type": "integer"
        },
        {
         "name": "CNTY_FIPS",
         "rawType": "int64",
         "type": "integer"
        },
        {
         "name": "county_pop2018_18 and older",
         "rawType": "int64",
         "type": "integer"
        },
        {
         "name": "anycondition_prevalence",
         "rawType": "float64",
         "type": "float"
        },
        {
         "name": "anycondition_Lower 95% CI",
         "rawType": "float64",
         "type": "float"
        },
        {
         "name": "anycondition_Upper 95% CI",
         "rawType": "float64",
         "type": "float"
        },
        {
         "name": "anycondition_number",
         "rawType": "int64",
         "type": "integer"
        },
        {
         "name": "Obesity_prevalence",
         "rawType": "float64",
         "type": "float"
        },
        {
         "name": "Obesity_Lower 95% CI",
         "rawType": "float64",
         "type": "float"
        },
        {
         "name": "Obesity_Upper 95% CI",
         "rawType": "float64",
         "type": "float"
        },
        {
         "name": "Obesity_number",
         "rawType": "int64",
         "type": "integer"
        },
        {
         "name": "Heart disease_prevalence",
         "rawType": "float64",
         "type": "float"
        },
        {
         "name": "Heart disease_Lower 95% CI",
         "rawType": "float64",
         "type": "float"
        },
        {
         "name": "Heart disease_Upper 95% CI",
         "rawType": "float64",
         "type": "float"
        },
        {
         "name": "Heart disease_number",
         "rawType": "int64",
         "type": "integer"
        },
        {
         "name": "COPD_prevalence",
         "rawType": "float64",
         "type": "float"
        },
        {
         "name": "COPD_Lower 95% CI",
         "rawType": "float64",
         "type": "float"
        },
        {
         "name": "COPD_Upper 95% CI",
         "rawType": "float64",
         "type": "float"
        },
        {
         "name": "COPD_number",
         "rawType": "int64",
         "type": "integer"
        },
        {
         "name": "diabetes_prevalence",
         "rawType": "float64",
         "type": "float"
        },
        {
         "name": "diabetes_Lower 95% CI",
         "rawType": "float64",
         "type": "float"
        },
        {
         "name": "diabetes_Upper 95% CI",
         "rawType": "float64",
         "type": "float"
        },
        {
         "name": "diabetes_number",
         "rawType": "int64",
         "type": "integer"
        },
        {
         "name": "CKD_prevalence",
         "rawType": "float64",
         "type": "float"
        },
        {
         "name": "CKD_Lower 95% CI",
         "rawType": "float64",
         "type": "float"
        },
        {
         "name": "CKD_Upper 95% CI",
         "rawType": "float64",
         "type": "float"
        },
        {
         "name": "CKD_number",
         "rawType": "int64",
         "type": "integer"
        },
        {
         "name": "Urban_rural_code",
         "rawType": "int64",
         "type": "integer"
        }
       ],
       "conversionMethod": "pd.DataFrame",
       "ref": "823470dc-baad-4d02-bc37-5dd156557a6c",
       "rows": [
        [
         "0",
         "1001",
         "55601",
         "6787",
         "12.20661499",
         "7637",
         "13.73536447",
         "6878",
         "12.37028111",
         "7089",
         "12.74977069",
         "7582",
         "13.63644539",
         "7738",
         "13.91701588",
         "5826",
         "10.47822881",
         "4050",
         "7.284041654",
         "2014",
         "3.62223701",
         "42660",
         "76.72523875",
         "10915",
         "19.63094189",
         "267",
         "0.480207191",
         "681",
         "1.224798115",
         "62",
         "0.111508786",
         "1016",
         "1.827305264",
         "55601",
         "158",
         "455",
         "11.8",
         "9.6",
         "2.2",
         "0.0",
         "0.7",
         "0.6",
         "4204",
         "12119",
         "10552",
         "10291",
         "11.3",
         "32.6",
         "28.4",
         "27.7",
         "7587",
         "13.8",
         "19.3",
         "19.5",
         "59338",
         "53628",
         "65048",
         "25957",
         "25015",
         "942",
         "3.6",
         "59338",
         "119.0",
         "217.1",
         "196.7",
         "77.2",
         "71.2",
         "7.6",
         "6.9",
         "28.85913663",
         "6.085785611",
         "1.148905321",
         "25.99256097",
         "21.24906079",
         "72.14215392",
         "6",
         "55036",
         "10523",
         "19.1",
         "Autauga",
         "Alabama",
         "1",
         "1",
         "42438",
         "47.6",
         "45.4",
         "49.4",
         "20181",
         "35.8",
         "34.2",
         "37.3",
         "15193",
         "7.9",
         "7.2",
         "8.7",
         "3345",
         "8.6",
         "7.3",
         "9.9",
         "3644",
         "12.9",
         "11.9",
         "13.8",
         "5462",
         "3.1",
         "2.9",
         "3.3",
         "1326",
         "3"
        ],
        [
         "1",
         "1003",
         "218022",
         "24757",
         "11.35527607",
         "26913",
         "12.3441671",
         "23579",
         "10.81496363",
         "25213",
         "11.56442928",
         "27338",
         "12.53910156",
         "29986",
         "13.75365789",
         "29932",
         "13.72888975",
         "20936",
         "9.602700645",
         "9368",
         "4.296814083",
         "190301",
         "87.2852281",
         "19492",
         "8.940382163",
         "1684",
         "0.772399116",
         "2508",
         "1.150342626",
         "146",
         "0.066965719",
         "3891",
         "1.78468228",
         "218022",
         "5403",
         "2190",
         "10.5",
         "10.3",
         "0.1",
         "0.5",
         "24.3",
         "24.8",
         "14310",
         "40579",
         "46025",
         "46075",
         "9.7",
         "27.6",
         "31.3",
         "31.3",
         "21069",
         "9.8",
         "13.9",
         "13.1",
         "57588",
         "54437",
         "60739",
         "93849",
         "90456",
         "3393",
         "3.6",
         "57588",
         "115.5",
         "217.1",
         "196.7",
         "77.2",
         "71.2",
         "7.6",
         "6.9",
         "113.1621137",
         "23.86351236",
         "4.505074295",
         "101.9217303",
         "83.32157211",
         "282.882982",
         "51",
         "203360",
         "53519",
         "26.3",
         "Baldwin",
         "Alabama",
         "1",
         "3",
         "170912",
         "40.2",
         "38.2",
         "42.3",
         "68790",
         "29.7",
         "28.4",
         "31.0",
         "50761",
         "7.8",
         "7.0",
         "8.7",
         "13414",
         "8.6",
         "7.2",
         "10.1",
         "14692",
         "12.0",
         "11.0",
         "13.1",
         "20520",
         "3.2",
         "3.0",
         "3.5",
         "5479",
         "4"
        ],
        [
         "2",
         "1005",
         "24881",
         "2732",
         "10.98026607",
         "2960",
         "11.89662795",
         "3268",
         "13.13452032",
         "3201",
         "12.86523854",
         "3074",
         "12.35480889",
         "3278",
         "13.17471163",
         "3076",
         "12.36284715",
         "2244",
         "9.018930107",
         "1048",
         "4.212049355",
         "12209",
         "49.06957116",
         "12042",
         "48.39837627",
         "164",
         "0.659137495",
         "113",
         "0.45416181",
         "46",
         "0.184880029",
         "307",
         "1.233873237",
         "24881",
         "-277",
         "2820",
         "10.4",
         "12.9",
         "-2.5",
         "0.5",
         "-9.1",
         "-8.6",
         "4901",
         "6486",
         "4566",
         "2220",
         "27.0",
         "35.7",
         "25.1",
         "12.2",
         "6788",
         "30.9",
         "43.9",
         "36.7",
         "34382",
         "31157",
         "37607",
         "8373",
         "7940",
         "433",
         "5.2",
         "34382",
         "68.9",
         "217.1",
         "196.7",
         "77.2",
         "71.2",
         "7.6",
         "6.9",
         "12.91423137",
         "2.72334008",
         "0.514125884",
         "11.63146184",
         "9.508783681",
         "32.28303325",
         "5",
         "26201",
         "6150",
         "23.5",
         "Barbour",
         "Alabama",
         "1",
         "5",
         "19689",
         "57.5",
         "55.6",
         "59.1",
         "11325",
         "40.7",
         "39.5",
         "41.9",
         "8013",
         "11.0",
         "10.1",
         "11.8",
         "2159",
         "12.1",
         "10.7",
         "13.3",
         "2373",
         "19.7",
         "18.6",
         "20.6",
         "3870",
         "4.5",
         "4.2",
         "4.8",
         "887",
         "6"
        ],
        [
         "3",
         "1007",
         "22400",
         "2456",
         "10.96428571",
         "2596",
         "11.58928571",
         "3029",
         "13.52232143",
         "3113",
         "13.89732143",
         "3038",
         "13.5625",
         "3115",
         "13.90625",
         "2545",
         "11.36160714",
         "1723",
         "7.691964286",
         "785",
         "3.504464286",
         "17211",
         "76.83482143",
         "4770",
         "21.29464286",
         "98",
         "0.4375",
         "53",
         "0.236607143",
         "26",
         "0.116071429",
         "242",
         "1.080357143",
         "22400",
         "-155",
         "2151",
         "11.1",
         "11.4",
         "-0.3",
         "0.4",
         "-7.0",
         "-6.6",
         "2650",
         "7471",
         "3846",
         "1813",
         "16.8",
         "47.3",
         "24.4",
         "11.5",
         "4400",
         "21.8",
         "27.8",
         "26.3",
         "46064",
         "41283",
         "50845",
         "8661",
         "8317",
         "344",
         "4.0",
         "46064",
         "92.3",
         "217.1",
         "196.7",
         "77.2",
         "71.2",
         "7.6",
         "6.9",
         "11.62649342",
         "2.4517832",
         "0.462860006",
         "10.47163479",
         "8.560618723",
         "29.06394215",
         "0",
         "22580",
         "4773",
         "21.1",
         "Bibb",
         "Alabama",
         "1",
         "7",
         "17813",
         "51.6",
         "49.6",
         "53.4",
         "9190",
         "38.7",
         "37.4",
         "40.2",
         "6894",
         "8.6",
         "7.9",
         "9.3",
         "1533",
         "10.0",
         "8.8",
         "11.3",
         "1789",
         "14.1",
         "13.2",
         "14.9",
         "2511",
         "3.3",
         "3.1",
         "3.6",
         "595",
         "2"
        ],
        [
         "4",
         "1009",
         "57840",
         "7095",
         "12.26659751",
         "7570",
         "13.08782849",
         "6742",
         "11.65629322",
         "6884",
         "11.90179806",
         "7474",
         "12.92185339",
         "7844",
         "13.5615491",
         "6965",
         "12.04183956",
         "4931",
         "8.525242047",
         "2335",
         "4.036998617",
         "55456",
         "95.87828492",
         "950",
         "1.642461964",
         "378",
         "0.653526971",
         "185",
         "0.319847856",
         "70",
         "0.121023513",
         "801",
         "1.384854772",
         "57840",
         "13",
         "489",
         "11.8",
         "11.4",
         "0.3",
         "0.1",
         "-0.2",
         "0.0",
         "7861",
         "13489",
         "13267",
         "5010",
         "19.8",
         "34.0",
         "33.5",
         "12.6",
         "7527",
         "13.2",
         "18.0",
         "15.5",
         "50412",
         "46157",
         "54667",
         "25006",
         "24128",
         "878",
         "3.5",
         "50412",
         "101.1",
         "217.1",
         "196.7",
         "77.2",
         "71.2",
         "7.6",
         "6.9",
         "30.02126693",
         "6.330854476",
         "1.195170658",
         "27.03925697",
         "22.10474049",
         "75.04725063",
         "6",
         "57667",
         "13600",
         "23.6",
         "Blount",
         "Alabama",
         "1",
         "9",
         "44448",
         "46.3",
         "44.3",
         "48.4",
         "20584",
         "34.0",
         "32.4",
         "35.5",
         "15112",
         "9.2",
         "8.4",
         "10.1",
         "4101",
         "10.5",
         "9.1",
         "12.0",
         "4661",
         "13.5",
         "12.6",
         "14.5",
         "6017",
         "3.4",
         "3.2",
         "3.7",
         "1507",
         "2"
        ]
       ],
       "shape": {
        "columns": 108,
        "rows": 5
       }
      },
      "text/html": [
       "<div>\n",
       "<style scoped>\n",
       "    .dataframe tbody tr th:only-of-type {\n",
       "        vertical-align: middle;\n",
       "    }\n",
       "\n",
       "    .dataframe tbody tr th {\n",
       "        vertical-align: top;\n",
       "    }\n",
       "\n",
       "    .dataframe thead th {\n",
       "        text-align: right;\n",
       "    }\n",
       "</style>\n",
       "<table border=\"1\" class=\"dataframe\">\n",
       "  <thead>\n",
       "    <tr style=\"text-align: right;\">\n",
       "      <th></th>\n",
       "      <th>fips</th>\n",
       "      <th>TOT_POP</th>\n",
       "      <th>0-9</th>\n",
       "      <th>0-9 y/o % of total pop</th>\n",
       "      <th>19-Oct</th>\n",
       "      <th>10-19 y/o % of total pop</th>\n",
       "      <th>20-29</th>\n",
       "      <th>20-29 y/o % of total pop</th>\n",
       "      <th>30-39</th>\n",
       "      <th>30-39 y/o % of total pop</th>\n",
       "      <th>...</th>\n",
       "      <th>COPD_number</th>\n",
       "      <th>diabetes_prevalence</th>\n",
       "      <th>diabetes_Lower 95% CI</th>\n",
       "      <th>diabetes_Upper 95% CI</th>\n",
       "      <th>diabetes_number</th>\n",
       "      <th>CKD_prevalence</th>\n",
       "      <th>CKD_Lower 95% CI</th>\n",
       "      <th>CKD_Upper 95% CI</th>\n",
       "      <th>CKD_number</th>\n",
       "      <th>Urban_rural_code</th>\n",
       "    </tr>\n",
       "  </thead>\n",
       "  <tbody>\n",
       "    <tr>\n",
       "      <th>0</th>\n",
       "      <td>1001</td>\n",
       "      <td>55601</td>\n",
       "      <td>6787</td>\n",
       "      <td>12.206615</td>\n",
       "      <td>7637</td>\n",
       "      <td>13.735364</td>\n",
       "      <td>6878</td>\n",
       "      <td>12.370281</td>\n",
       "      <td>7089</td>\n",
       "      <td>12.749771</td>\n",
       "      <td>...</td>\n",
       "      <td>3644</td>\n",
       "      <td>12.9</td>\n",
       "      <td>11.9</td>\n",
       "      <td>13.8</td>\n",
       "      <td>5462</td>\n",
       "      <td>3.1</td>\n",
       "      <td>2.9</td>\n",
       "      <td>3.3</td>\n",
       "      <td>1326</td>\n",
       "      <td>3</td>\n",
       "    </tr>\n",
       "    <tr>\n",
       "      <th>1</th>\n",
       "      <td>1003</td>\n",
       "      <td>218022</td>\n",
       "      <td>24757</td>\n",
       "      <td>11.355276</td>\n",
       "      <td>26913</td>\n",
       "      <td>12.344167</td>\n",
       "      <td>23579</td>\n",
       "      <td>10.814964</td>\n",
       "      <td>25213</td>\n",
       "      <td>11.564429</td>\n",
       "      <td>...</td>\n",
       "      <td>14692</td>\n",
       "      <td>12.0</td>\n",
       "      <td>11.0</td>\n",
       "      <td>13.1</td>\n",
       "      <td>20520</td>\n",
       "      <td>3.2</td>\n",
       "      <td>3.0</td>\n",
       "      <td>3.5</td>\n",
       "      <td>5479</td>\n",
       "      <td>4</td>\n",
       "    </tr>\n",
       "    <tr>\n",
       "      <th>2</th>\n",
       "      <td>1005</td>\n",
       "      <td>24881</td>\n",
       "      <td>2732</td>\n",
       "      <td>10.980266</td>\n",
       "      <td>2960</td>\n",
       "      <td>11.896628</td>\n",
       "      <td>3268</td>\n",
       "      <td>13.134520</td>\n",
       "      <td>3201</td>\n",
       "      <td>12.865239</td>\n",
       "      <td>...</td>\n",
       "      <td>2373</td>\n",
       "      <td>19.7</td>\n",
       "      <td>18.6</td>\n",
       "      <td>20.6</td>\n",
       "      <td>3870</td>\n",
       "      <td>4.5</td>\n",
       "      <td>4.2</td>\n",
       "      <td>4.8</td>\n",
       "      <td>887</td>\n",
       "      <td>6</td>\n",
       "    </tr>\n",
       "    <tr>\n",
       "      <th>3</th>\n",
       "      <td>1007</td>\n",
       "      <td>22400</td>\n",
       "      <td>2456</td>\n",
       "      <td>10.964286</td>\n",
       "      <td>2596</td>\n",
       "      <td>11.589286</td>\n",
       "      <td>3029</td>\n",
       "      <td>13.522321</td>\n",
       "      <td>3113</td>\n",
       "      <td>13.897321</td>\n",
       "      <td>...</td>\n",
       "      <td>1789</td>\n",
       "      <td>14.1</td>\n",
       "      <td>13.2</td>\n",
       "      <td>14.9</td>\n",
       "      <td>2511</td>\n",
       "      <td>3.3</td>\n",
       "      <td>3.1</td>\n",
       "      <td>3.6</td>\n",
       "      <td>595</td>\n",
       "      <td>2</td>\n",
       "    </tr>\n",
       "    <tr>\n",
       "      <th>4</th>\n",
       "      <td>1009</td>\n",
       "      <td>57840</td>\n",
       "      <td>7095</td>\n",
       "      <td>12.266598</td>\n",
       "      <td>7570</td>\n",
       "      <td>13.087828</td>\n",
       "      <td>6742</td>\n",
       "      <td>11.656293</td>\n",
       "      <td>6884</td>\n",
       "      <td>11.901798</td>\n",
       "      <td>...</td>\n",
       "      <td>4661</td>\n",
       "      <td>13.5</td>\n",
       "      <td>12.6</td>\n",
       "      <td>14.5</td>\n",
       "      <td>6017</td>\n",
       "      <td>3.4</td>\n",
       "      <td>3.2</td>\n",
       "      <td>3.7</td>\n",
       "      <td>1507</td>\n",
       "      <td>2</td>\n",
       "    </tr>\n",
       "  </tbody>\n",
       "</table>\n",
       "<p>5 rows × 108 columns</p>\n",
       "</div>"
      ],
      "text/plain": [
       "   fips  TOT_POP    0-9  0-9 y/o % of total pop  19-Oct  \\\n",
       "0  1001    55601   6787               12.206615    7637   \n",
       "1  1003   218022  24757               11.355276   26913   \n",
       "2  1005    24881   2732               10.980266    2960   \n",
       "3  1007    22400   2456               10.964286    2596   \n",
       "4  1009    57840   7095               12.266598    7570   \n",
       "\n",
       "   10-19 y/o % of total pop  20-29  20-29 y/o % of total pop  30-39  \\\n",
       "0                 13.735364   6878                 12.370281   7089   \n",
       "1                 12.344167  23579                 10.814964  25213   \n",
       "2                 11.896628   3268                 13.134520   3201   \n",
       "3                 11.589286   3029                 13.522321   3113   \n",
       "4                 13.087828   6742                 11.656293   6884   \n",
       "\n",
       "   30-39 y/o % of total pop  ...  COPD_number  diabetes_prevalence  \\\n",
       "0                 12.749771  ...         3644                 12.9   \n",
       "1                 11.564429  ...        14692                 12.0   \n",
       "2                 12.865239  ...         2373                 19.7   \n",
       "3                 13.897321  ...         1789                 14.1   \n",
       "4                 11.901798  ...         4661                 13.5   \n",
       "\n",
       "   diabetes_Lower 95% CI  diabetes_Upper 95% CI  diabetes_number  \\\n",
       "0                   11.9                   13.8             5462   \n",
       "1                   11.0                   13.1            20520   \n",
       "2                   18.6                   20.6             3870   \n",
       "3                   13.2                   14.9             2511   \n",
       "4                   12.6                   14.5             6017   \n",
       "\n",
       "   CKD_prevalence  CKD_Lower 95% CI  CKD_Upper 95% CI  CKD_number  \\\n",
       "0             3.1               2.9               3.3        1326   \n",
       "1             3.2               3.0               3.5        5479   \n",
       "2             4.5               4.2               4.8         887   \n",
       "3             3.3               3.1               3.6         595   \n",
       "4             3.4               3.2               3.7        1507   \n",
       "\n",
       "   Urban_rural_code  \n",
       "0                 3  \n",
       "1                 4  \n",
       "2                 6  \n",
       "3                 2  \n",
       "4                 2  \n",
       "\n",
       "[5 rows x 108 columns]"
      ]
     },
     "execution_count": 12,
     "metadata": {},
     "output_type": "execute_result"
    }
   ],
   "source": [
    "import pandas as pd\n",
    "import seaborn as sns\n",
    "import matplotlib.pyplot as plt\n",
    "import numpy as np\n",
    "\n",
    "total_data = pd.read_csv(\"https://raw.githubusercontent.com/4GeeksAcademy/regularized-linear-regression-project-tutorial/main/demographic_health_data.csv\")\n",
    "total_data.head()"
   ]
  },
  {
   "cell_type": "markdown",
   "metadata": {},
   "source": [
    "TARGGET =  Life expectancy "
   ]
  },
  {
   "cell_type": "code",
   "execution_count": 13,
   "metadata": {},
   "outputs": [
    {
     "data": {
      "application/vnd.microsoft.datawrangler.viewer.v0+json": {
       "columns": [
        {
         "name": "index",
         "rawType": "int64",
         "type": "integer"
        },
        {
         "name": "fips",
         "rawType": "int64",
         "type": "integer"
        },
        {
         "name": "TOT_POP",
         "rawType": "int64",
         "type": "integer"
        },
        {
         "name": "0-9",
         "rawType": "int64",
         "type": "integer"
        },
        {
         "name": "0-9 y/o % of total pop",
         "rawType": "float64",
         "type": "float"
        },
        {
         "name": "19-Oct",
         "rawType": "int64",
         "type": "integer"
        },
        {
         "name": "10-19 y/o % of total pop",
         "rawType": "float64",
         "type": "float"
        },
        {
         "name": "20-29",
         "rawType": "int64",
         "type": "integer"
        },
        {
         "name": "20-29 y/o % of total pop",
         "rawType": "float64",
         "type": "float"
        },
        {
         "name": "30-39",
         "rawType": "int64",
         "type": "integer"
        },
        {
         "name": "30-39 y/o % of total pop",
         "rawType": "float64",
         "type": "float"
        },
        {
         "name": "40-49",
         "rawType": "int64",
         "type": "integer"
        },
        {
         "name": "40-49 y/o % of total pop",
         "rawType": "float64",
         "type": "float"
        },
        {
         "name": "50-59",
         "rawType": "int64",
         "type": "integer"
        },
        {
         "name": "50-59 y/o % of total pop",
         "rawType": "float64",
         "type": "float"
        },
        {
         "name": "60-69",
         "rawType": "int64",
         "type": "integer"
        },
        {
         "name": "60-69 y/o % of total pop",
         "rawType": "float64",
         "type": "float"
        },
        {
         "name": "70-79",
         "rawType": "int64",
         "type": "integer"
        },
        {
         "name": "70-79 y/o % of total pop",
         "rawType": "float64",
         "type": "float"
        },
        {
         "name": "80+",
         "rawType": "int64",
         "type": "integer"
        },
        {
         "name": "80+ y/o % of total pop",
         "rawType": "float64",
         "type": "float"
        },
        {
         "name": "White-alone pop",
         "rawType": "int64",
         "type": "integer"
        },
        {
         "name": "% White-alone",
         "rawType": "float64",
         "type": "float"
        },
        {
         "name": "Black-alone pop",
         "rawType": "int64",
         "type": "integer"
        },
        {
         "name": "% Black-alone",
         "rawType": "float64",
         "type": "float"
        },
        {
         "name": "Native American/American Indian-alone pop",
         "rawType": "int64",
         "type": "integer"
        },
        {
         "name": "% NA/AI-alone",
         "rawType": "float64",
         "type": "float"
        },
        {
         "name": "Asian-alone pop",
         "rawType": "int64",
         "type": "integer"
        },
        {
         "name": "% Asian-alone",
         "rawType": "float64",
         "type": "float"
        },
        {
         "name": "Hawaiian/Pacific Islander-alone pop",
         "rawType": "int64",
         "type": "integer"
        },
        {
         "name": "% Hawaiian/PI-alone",
         "rawType": "float64",
         "type": "float"
        },
        {
         "name": "Two or more races pop",
         "rawType": "int64",
         "type": "integer"
        },
        {
         "name": "% Two or more races",
         "rawType": "float64",
         "type": "float"
        },
        {
         "name": "POP_ESTIMATE_2018",
         "rawType": "int64",
         "type": "integer"
        },
        {
         "name": "N_POP_CHG_2018",
         "rawType": "int64",
         "type": "integer"
        },
        {
         "name": "GQ_ESTIMATES_2018",
         "rawType": "int64",
         "type": "integer"
        },
        {
         "name": "R_birth_2018",
         "rawType": "float64",
         "type": "float"
        },
        {
         "name": "R_death_2018",
         "rawType": "float64",
         "type": "float"
        },
        {
         "name": "R_NATURAL_INC_2018",
         "rawType": "float64",
         "type": "float"
        },
        {
         "name": "R_INTERNATIONAL_MIG_2018",
         "rawType": "float64",
         "type": "float"
        },
        {
         "name": "R_DOMESTIC_MIG_2018",
         "rawType": "float64",
         "type": "float"
        },
        {
         "name": "R_NET_MIG_2018",
         "rawType": "float64",
         "type": "float"
        },
        {
         "name": "Less than a high school diploma 2014-18",
         "rawType": "int64",
         "type": "integer"
        },
        {
         "name": "High school diploma only 2014-18",
         "rawType": "int64",
         "type": "integer"
        },
        {
         "name": "Some college or associate's degree 2014-18",
         "rawType": "int64",
         "type": "integer"
        },
        {
         "name": "Bachelor's degree or higher 2014-18",
         "rawType": "int64",
         "type": "integer"
        },
        {
         "name": "Percent of adults with less than a high school diploma 2014-18",
         "rawType": "float64",
         "type": "float"
        },
        {
         "name": "Percent of adults with a high school diploma only 2014-18",
         "rawType": "float64",
         "type": "float"
        },
        {
         "name": "Percent of adults completing some college or associate's degree 2014-18",
         "rawType": "float64",
         "type": "float"
        },
        {
         "name": "Percent of adults with a bachelor's degree or higher 2014-18",
         "rawType": "float64",
         "type": "float"
        },
        {
         "name": "POVALL_2018",
         "rawType": "int64",
         "type": "integer"
        },
        {
         "name": "PCTPOVALL_2018",
         "rawType": "float64",
         "type": "float"
        },
        {
         "name": "PCTPOV017_2018",
         "rawType": "float64",
         "type": "float"
        },
        {
         "name": "PCTPOV517_2018",
         "rawType": "float64",
         "type": "float"
        },
        {
         "name": "MEDHHINC_2018",
         "rawType": "int64",
         "type": "integer"
        },
        {
         "name": "CI90LBINC_2018",
         "rawType": "int64",
         "type": "integer"
        },
        {
         "name": "CI90UBINC_2018",
         "rawType": "int64",
         "type": "integer"
        },
        {
         "name": "Civilian_labor_force_2018",
         "rawType": "int64",
         "type": "integer"
        },
        {
         "name": "Employed_2018",
         "rawType": "int64",
         "type": "integer"
        },
        {
         "name": "Unemployed_2018",
         "rawType": "int64",
         "type": "integer"
        },
        {
         "name": "Unemployment_rate_2018",
         "rawType": "float64",
         "type": "float"
        },
        {
         "name": "Median_Household_Income_2018",
         "rawType": "int64",
         "type": "integer"
        },
        {
         "name": "Med_HH_Income_Percent_of_State_Total_2018",
         "rawType": "float64",
         "type": "float"
        },
        {
         "name": "Active Physicians per 100000 Population 2018 (AAMC)",
         "rawType": "float64",
         "type": "float"
        },
        {
         "name": "Total Active Patient Care Physicians per 100000 Population 2018 (AAMC)",
         "rawType": "float64",
         "type": "float"
        },
        {
         "name": "Active Primary Care Physicians per 100000 Population 2018 (AAMC)",
         "rawType": "float64",
         "type": "float"
        },
        {
         "name": "Active Patient Care Primary Care Physicians per 100000 Population 2018 (AAMC)",
         "rawType": "float64",
         "type": "float"
        },
        {
         "name": "Active General Surgeons per 100000 Population 2018 (AAMC)",
         "rawType": "float64",
         "type": "float"
        },
        {
         "name": "Active Patient Care General Surgeons per 100000 Population 2018 (AAMC)",
         "rawType": "float64",
         "type": "float"
        },
        {
         "name": "Total nurse practitioners (2019)",
         "rawType": "float64",
         "type": "float"
        },
        {
         "name": "Total physician assistants (2019)",
         "rawType": "float64",
         "type": "float"
        },
        {
         "name": "Total Hospitals (2019)",
         "rawType": "float64",
         "type": "float"
        },
        {
         "name": "Internal Medicine Primary Care (2019)",
         "rawType": "float64",
         "type": "float"
        },
        {
         "name": "Family Medicine/General Practice Primary Care (2019)",
         "rawType": "float64",
         "type": "float"
        },
        {
         "name": "Total Specialist Physicians (2019)",
         "rawType": "float64",
         "type": "float"
        },
        {
         "name": "ICU Beds_x",
         "rawType": "int64",
         "type": "integer"
        },
        {
         "name": "Total Population",
         "rawType": "int64",
         "type": "integer"
        },
        {
         "name": "Population Aged 60+",
         "rawType": "int64",
         "type": "integer"
        },
        {
         "name": "Percent of Population Aged 60+",
         "rawType": "float64",
         "type": "float"
        },
        {
         "name": "COUNTY_NAME",
         "rawType": "object",
         "type": "string"
        },
        {
         "name": "STATE_NAME",
         "rawType": "object",
         "type": "string"
        },
        {
         "name": "STATE_FIPS",
         "rawType": "int64",
         "type": "integer"
        },
        {
         "name": "CNTY_FIPS",
         "rawType": "int64",
         "type": "integer"
        },
        {
         "name": "county_pop2018_18 and older",
         "rawType": "int64",
         "type": "integer"
        },
        {
         "name": "anycondition_prevalence",
         "rawType": "float64",
         "type": "float"
        },
        {
         "name": "anycondition_Lower 95% CI",
         "rawType": "float64",
         "type": "float"
        },
        {
         "name": "anycondition_Upper 95% CI",
         "rawType": "float64",
         "type": "float"
        },
        {
         "name": "anycondition_number",
         "rawType": "int64",
         "type": "integer"
        },
        {
         "name": "Obesity_prevalence",
         "rawType": "float64",
         "type": "float"
        },
        {
         "name": "Obesity_Lower 95% CI",
         "rawType": "float64",
         "type": "float"
        },
        {
         "name": "Obesity_Upper 95% CI",
         "rawType": "float64",
         "type": "float"
        },
        {
         "name": "Obesity_number",
         "rawType": "int64",
         "type": "integer"
        },
        {
         "name": "Heart disease_prevalence",
         "rawType": "float64",
         "type": "float"
        },
        {
         "name": "Heart disease_Lower 95% CI",
         "rawType": "float64",
         "type": "float"
        },
        {
         "name": "Heart disease_Upper 95% CI",
         "rawType": "float64",
         "type": "float"
        },
        {
         "name": "Heart disease_number",
         "rawType": "int64",
         "type": "integer"
        },
        {
         "name": "COPD_prevalence",
         "rawType": "float64",
         "type": "float"
        },
        {
         "name": "COPD_Lower 95% CI",
         "rawType": "float64",
         "type": "float"
        },
        {
         "name": "COPD_Upper 95% CI",
         "rawType": "float64",
         "type": "float"
        },
        {
         "name": "COPD_number",
         "rawType": "int64",
         "type": "integer"
        },
        {
         "name": "diabetes_prevalence",
         "rawType": "float64",
         "type": "float"
        },
        {
         "name": "diabetes_Lower 95% CI",
         "rawType": "float64",
         "type": "float"
        },
        {
         "name": "diabetes_Upper 95% CI",
         "rawType": "float64",
         "type": "float"
        },
        {
         "name": "diabetes_number",
         "rawType": "int64",
         "type": "integer"
        },
        {
         "name": "CKD_prevalence",
         "rawType": "float64",
         "type": "float"
        },
        {
         "name": "CKD_Lower 95% CI",
         "rawType": "float64",
         "type": "float"
        },
        {
         "name": "CKD_Upper 95% CI",
         "rawType": "float64",
         "type": "float"
        },
        {
         "name": "CKD_number",
         "rawType": "int64",
         "type": "integer"
        },
        {
         "name": "Urban_rural_code",
         "rawType": "int64",
         "type": "integer"
        }
       ],
       "conversionMethod": "pd.DataFrame",
       "ref": "8f643e70-535d-4643-ac83-5ec5685dcdbf",
       "rows": [
        [
         "0",
         "1001",
         "55601",
         "6787",
         "12.20661499",
         "7637",
         "13.73536447",
         "6878",
         "12.37028111",
         "7089",
         "12.74977069",
         "7582",
         "13.63644539",
         "7738",
         "13.91701588",
         "5826",
         "10.47822881",
         "4050",
         "7.284041654",
         "2014",
         "3.62223701",
         "42660",
         "76.72523875",
         "10915",
         "19.63094189",
         "267",
         "0.480207191",
         "681",
         "1.224798115",
         "62",
         "0.111508786",
         "1016",
         "1.827305264",
         "55601",
         "158",
         "455",
         "11.8",
         "9.6",
         "2.2",
         "0.0",
         "0.7",
         "0.6",
         "4204",
         "12119",
         "10552",
         "10291",
         "11.3",
         "32.6",
         "28.4",
         "27.7",
         "7587",
         "13.8",
         "19.3",
         "19.5",
         "59338",
         "53628",
         "65048",
         "25957",
         "25015",
         "942",
         "3.6",
         "59338",
         "119.0",
         "217.1",
         "196.7",
         "77.2",
         "71.2",
         "7.6",
         "6.9",
         "28.85913663",
         "6.085785611",
         "1.148905321",
         "25.99256097",
         "21.24906079",
         "72.14215392",
         "6",
         "55036",
         "10523",
         "19.1",
         "Autauga",
         "Alabama",
         "1",
         "1",
         "42438",
         "47.6",
         "45.4",
         "49.4",
         "20181",
         "35.8",
         "34.2",
         "37.3",
         "15193",
         "7.9",
         "7.2",
         "8.7",
         "3345",
         "8.6",
         "7.3",
         "9.9",
         "3644",
         "12.9",
         "11.9",
         "13.8",
         "5462",
         "3.1",
         "2.9",
         "3.3",
         "1326",
         "3"
        ],
        [
         "1",
         "1003",
         "218022",
         "24757",
         "11.35527607",
         "26913",
         "12.3441671",
         "23579",
         "10.81496363",
         "25213",
         "11.56442928",
         "27338",
         "12.53910156",
         "29986",
         "13.75365789",
         "29932",
         "13.72888975",
         "20936",
         "9.602700645",
         "9368",
         "4.296814083",
         "190301",
         "87.2852281",
         "19492",
         "8.940382163",
         "1684",
         "0.772399116",
         "2508",
         "1.150342626",
         "146",
         "0.066965719",
         "3891",
         "1.78468228",
         "218022",
         "5403",
         "2190",
         "10.5",
         "10.3",
         "0.1",
         "0.5",
         "24.3",
         "24.8",
         "14310",
         "40579",
         "46025",
         "46075",
         "9.7",
         "27.6",
         "31.3",
         "31.3",
         "21069",
         "9.8",
         "13.9",
         "13.1",
         "57588",
         "54437",
         "60739",
         "93849",
         "90456",
         "3393",
         "3.6",
         "57588",
         "115.5",
         "217.1",
         "196.7",
         "77.2",
         "71.2",
         "7.6",
         "6.9",
         "113.1621137",
         "23.86351236",
         "4.505074295",
         "101.9217303",
         "83.32157211",
         "282.882982",
         "51",
         "203360",
         "53519",
         "26.3",
         "Baldwin",
         "Alabama",
         "1",
         "3",
         "170912",
         "40.2",
         "38.2",
         "42.3",
         "68790",
         "29.7",
         "28.4",
         "31.0",
         "50761",
         "7.8",
         "7.0",
         "8.7",
         "13414",
         "8.6",
         "7.2",
         "10.1",
         "14692",
         "12.0",
         "11.0",
         "13.1",
         "20520",
         "3.2",
         "3.0",
         "3.5",
         "5479",
         "4"
        ],
        [
         "2",
         "1005",
         "24881",
         "2732",
         "10.98026607",
         "2960",
         "11.89662795",
         "3268",
         "13.13452032",
         "3201",
         "12.86523854",
         "3074",
         "12.35480889",
         "3278",
         "13.17471163",
         "3076",
         "12.36284715",
         "2244",
         "9.018930107",
         "1048",
         "4.212049355",
         "12209",
         "49.06957116",
         "12042",
         "48.39837627",
         "164",
         "0.659137495",
         "113",
         "0.45416181",
         "46",
         "0.184880029",
         "307",
         "1.233873237",
         "24881",
         "-277",
         "2820",
         "10.4",
         "12.9",
         "-2.5",
         "0.5",
         "-9.1",
         "-8.6",
         "4901",
         "6486",
         "4566",
         "2220",
         "27.0",
         "35.7",
         "25.1",
         "12.2",
         "6788",
         "30.9",
         "43.9",
         "36.7",
         "34382",
         "31157",
         "37607",
         "8373",
         "7940",
         "433",
         "5.2",
         "34382",
         "68.9",
         "217.1",
         "196.7",
         "77.2",
         "71.2",
         "7.6",
         "6.9",
         "12.91423137",
         "2.72334008",
         "0.514125884",
         "11.63146184",
         "9.508783681",
         "32.28303325",
         "5",
         "26201",
         "6150",
         "23.5",
         "Barbour",
         "Alabama",
         "1",
         "5",
         "19689",
         "57.5",
         "55.6",
         "59.1",
         "11325",
         "40.7",
         "39.5",
         "41.9",
         "8013",
         "11.0",
         "10.1",
         "11.8",
         "2159",
         "12.1",
         "10.7",
         "13.3",
         "2373",
         "19.7",
         "18.6",
         "20.6",
         "3870",
         "4.5",
         "4.2",
         "4.8",
         "887",
         "6"
        ],
        [
         "3",
         "1007",
         "22400",
         "2456",
         "10.96428571",
         "2596",
         "11.58928571",
         "3029",
         "13.52232143",
         "3113",
         "13.89732143",
         "3038",
         "13.5625",
         "3115",
         "13.90625",
         "2545",
         "11.36160714",
         "1723",
         "7.691964286",
         "785",
         "3.504464286",
         "17211",
         "76.83482143",
         "4770",
         "21.29464286",
         "98",
         "0.4375",
         "53",
         "0.236607143",
         "26",
         "0.116071429",
         "242",
         "1.080357143",
         "22400",
         "-155",
         "2151",
         "11.1",
         "11.4",
         "-0.3",
         "0.4",
         "-7.0",
         "-6.6",
         "2650",
         "7471",
         "3846",
         "1813",
         "16.8",
         "47.3",
         "24.4",
         "11.5",
         "4400",
         "21.8",
         "27.8",
         "26.3",
         "46064",
         "41283",
         "50845",
         "8661",
         "8317",
         "344",
         "4.0",
         "46064",
         "92.3",
         "217.1",
         "196.7",
         "77.2",
         "71.2",
         "7.6",
         "6.9",
         "11.62649342",
         "2.4517832",
         "0.462860006",
         "10.47163479",
         "8.560618723",
         "29.06394215",
         "0",
         "22580",
         "4773",
         "21.1",
         "Bibb",
         "Alabama",
         "1",
         "7",
         "17813",
         "51.6",
         "49.6",
         "53.4",
         "9190",
         "38.7",
         "37.4",
         "40.2",
         "6894",
         "8.6",
         "7.9",
         "9.3",
         "1533",
         "10.0",
         "8.8",
         "11.3",
         "1789",
         "14.1",
         "13.2",
         "14.9",
         "2511",
         "3.3",
         "3.1",
         "3.6",
         "595",
         "2"
        ],
        [
         "4",
         "1009",
         "57840",
         "7095",
         "12.26659751",
         "7570",
         "13.08782849",
         "6742",
         "11.65629322",
         "6884",
         "11.90179806",
         "7474",
         "12.92185339",
         "7844",
         "13.5615491",
         "6965",
         "12.04183956",
         "4931",
         "8.525242047",
         "2335",
         "4.036998617",
         "55456",
         "95.87828492",
         "950",
         "1.642461964",
         "378",
         "0.653526971",
         "185",
         "0.319847856",
         "70",
         "0.121023513",
         "801",
         "1.384854772",
         "57840",
         "13",
         "489",
         "11.8",
         "11.4",
         "0.3",
         "0.1",
         "-0.2",
         "0.0",
         "7861",
         "13489",
         "13267",
         "5010",
         "19.8",
         "34.0",
         "33.5",
         "12.6",
         "7527",
         "13.2",
         "18.0",
         "15.5",
         "50412",
         "46157",
         "54667",
         "25006",
         "24128",
         "878",
         "3.5",
         "50412",
         "101.1",
         "217.1",
         "196.7",
         "77.2",
         "71.2",
         "7.6",
         "6.9",
         "30.02126693",
         "6.330854476",
         "1.195170658",
         "27.03925697",
         "22.10474049",
         "75.04725063",
         "6",
         "57667",
         "13600",
         "23.6",
         "Blount",
         "Alabama",
         "1",
         "9",
         "44448",
         "46.3",
         "44.3",
         "48.4",
         "20584",
         "34.0",
         "32.4",
         "35.5",
         "15112",
         "9.2",
         "8.4",
         "10.1",
         "4101",
         "10.5",
         "9.1",
         "12.0",
         "4661",
         "13.5",
         "12.6",
         "14.5",
         "6017",
         "3.4",
         "3.2",
         "3.7",
         "1507",
         "2"
        ]
       ],
       "shape": {
        "columns": 108,
        "rows": 5
       }
      },
      "text/html": [
       "<div>\n",
       "<style scoped>\n",
       "    .dataframe tbody tr th:only-of-type {\n",
       "        vertical-align: middle;\n",
       "    }\n",
       "\n",
       "    .dataframe tbody tr th {\n",
       "        vertical-align: top;\n",
       "    }\n",
       "\n",
       "    .dataframe thead th {\n",
       "        text-align: right;\n",
       "    }\n",
       "</style>\n",
       "<table border=\"1\" class=\"dataframe\">\n",
       "  <thead>\n",
       "    <tr style=\"text-align: right;\">\n",
       "      <th></th>\n",
       "      <th>fips</th>\n",
       "      <th>TOT_POP</th>\n",
       "      <th>0-9</th>\n",
       "      <th>0-9 y/o % of total pop</th>\n",
       "      <th>19-Oct</th>\n",
       "      <th>10-19 y/o % of total pop</th>\n",
       "      <th>20-29</th>\n",
       "      <th>20-29 y/o % of total pop</th>\n",
       "      <th>30-39</th>\n",
       "      <th>30-39 y/o % of total pop</th>\n",
       "      <th>...</th>\n",
       "      <th>COPD_number</th>\n",
       "      <th>diabetes_prevalence</th>\n",
       "      <th>diabetes_Lower 95% CI</th>\n",
       "      <th>diabetes_Upper 95% CI</th>\n",
       "      <th>diabetes_number</th>\n",
       "      <th>CKD_prevalence</th>\n",
       "      <th>CKD_Lower 95% CI</th>\n",
       "      <th>CKD_Upper 95% CI</th>\n",
       "      <th>CKD_number</th>\n",
       "      <th>Urban_rural_code</th>\n",
       "    </tr>\n",
       "  </thead>\n",
       "  <tbody>\n",
       "    <tr>\n",
       "      <th>0</th>\n",
       "      <td>1001</td>\n",
       "      <td>55601</td>\n",
       "      <td>6787</td>\n",
       "      <td>12.206615</td>\n",
       "      <td>7637</td>\n",
       "      <td>13.735364</td>\n",
       "      <td>6878</td>\n",
       "      <td>12.370281</td>\n",
       "      <td>7089</td>\n",
       "      <td>12.749771</td>\n",
       "      <td>...</td>\n",
       "      <td>3644</td>\n",
       "      <td>12.9</td>\n",
       "      <td>11.9</td>\n",
       "      <td>13.8</td>\n",
       "      <td>5462</td>\n",
       "      <td>3.1</td>\n",
       "      <td>2.9</td>\n",
       "      <td>3.3</td>\n",
       "      <td>1326</td>\n",
       "      <td>3</td>\n",
       "    </tr>\n",
       "    <tr>\n",
       "      <th>1</th>\n",
       "      <td>1003</td>\n",
       "      <td>218022</td>\n",
       "      <td>24757</td>\n",
       "      <td>11.355276</td>\n",
       "      <td>26913</td>\n",
       "      <td>12.344167</td>\n",
       "      <td>23579</td>\n",
       "      <td>10.814964</td>\n",
       "      <td>25213</td>\n",
       "      <td>11.564429</td>\n",
       "      <td>...</td>\n",
       "      <td>14692</td>\n",
       "      <td>12.0</td>\n",
       "      <td>11.0</td>\n",
       "      <td>13.1</td>\n",
       "      <td>20520</td>\n",
       "      <td>3.2</td>\n",
       "      <td>3.0</td>\n",
       "      <td>3.5</td>\n",
       "      <td>5479</td>\n",
       "      <td>4</td>\n",
       "    </tr>\n",
       "    <tr>\n",
       "      <th>2</th>\n",
       "      <td>1005</td>\n",
       "      <td>24881</td>\n",
       "      <td>2732</td>\n",
       "      <td>10.980266</td>\n",
       "      <td>2960</td>\n",
       "      <td>11.896628</td>\n",
       "      <td>3268</td>\n",
       "      <td>13.134520</td>\n",
       "      <td>3201</td>\n",
       "      <td>12.865239</td>\n",
       "      <td>...</td>\n",
       "      <td>2373</td>\n",
       "      <td>19.7</td>\n",
       "      <td>18.6</td>\n",
       "      <td>20.6</td>\n",
       "      <td>3870</td>\n",
       "      <td>4.5</td>\n",
       "      <td>4.2</td>\n",
       "      <td>4.8</td>\n",
       "      <td>887</td>\n",
       "      <td>6</td>\n",
       "    </tr>\n",
       "    <tr>\n",
       "      <th>3</th>\n",
       "      <td>1007</td>\n",
       "      <td>22400</td>\n",
       "      <td>2456</td>\n",
       "      <td>10.964286</td>\n",
       "      <td>2596</td>\n",
       "      <td>11.589286</td>\n",
       "      <td>3029</td>\n",
       "      <td>13.522321</td>\n",
       "      <td>3113</td>\n",
       "      <td>13.897321</td>\n",
       "      <td>...</td>\n",
       "      <td>1789</td>\n",
       "      <td>14.1</td>\n",
       "      <td>13.2</td>\n",
       "      <td>14.9</td>\n",
       "      <td>2511</td>\n",
       "      <td>3.3</td>\n",
       "      <td>3.1</td>\n",
       "      <td>3.6</td>\n",
       "      <td>595</td>\n",
       "      <td>2</td>\n",
       "    </tr>\n",
       "    <tr>\n",
       "      <th>4</th>\n",
       "      <td>1009</td>\n",
       "      <td>57840</td>\n",
       "      <td>7095</td>\n",
       "      <td>12.266598</td>\n",
       "      <td>7570</td>\n",
       "      <td>13.087828</td>\n",
       "      <td>6742</td>\n",
       "      <td>11.656293</td>\n",
       "      <td>6884</td>\n",
       "      <td>11.901798</td>\n",
       "      <td>...</td>\n",
       "      <td>4661</td>\n",
       "      <td>13.5</td>\n",
       "      <td>12.6</td>\n",
       "      <td>14.5</td>\n",
       "      <td>6017</td>\n",
       "      <td>3.4</td>\n",
       "      <td>3.2</td>\n",
       "      <td>3.7</td>\n",
       "      <td>1507</td>\n",
       "      <td>2</td>\n",
       "    </tr>\n",
       "  </tbody>\n",
       "</table>\n",
       "<p>5 rows × 108 columns</p>\n",
       "</div>"
      ],
      "text/plain": [
       "   fips  TOT_POP    0-9  0-9 y/o % of total pop  19-Oct  \\\n",
       "0  1001    55601   6787               12.206615    7637   \n",
       "1  1003   218022  24757               11.355276   26913   \n",
       "2  1005    24881   2732               10.980266    2960   \n",
       "3  1007    22400   2456               10.964286    2596   \n",
       "4  1009    57840   7095               12.266598    7570   \n",
       "\n",
       "   10-19 y/o % of total pop  20-29  20-29 y/o % of total pop  30-39  \\\n",
       "0                 13.735364   6878                 12.370281   7089   \n",
       "1                 12.344167  23579                 10.814964  25213   \n",
       "2                 11.896628   3268                 13.134520   3201   \n",
       "3                 11.589286   3029                 13.522321   3113   \n",
       "4                 13.087828   6742                 11.656293   6884   \n",
       "\n",
       "   30-39 y/o % of total pop  ...  COPD_number  diabetes_prevalence  \\\n",
       "0                 12.749771  ...         3644                 12.9   \n",
       "1                 11.564429  ...        14692                 12.0   \n",
       "2                 12.865239  ...         2373                 19.7   \n",
       "3                 13.897321  ...         1789                 14.1   \n",
       "4                 11.901798  ...         4661                 13.5   \n",
       "\n",
       "   diabetes_Lower 95% CI  diabetes_Upper 95% CI  diabetes_number  \\\n",
       "0                   11.9                   13.8             5462   \n",
       "1                   11.0                   13.1            20520   \n",
       "2                   18.6                   20.6             3870   \n",
       "3                   13.2                   14.9             2511   \n",
       "4                   12.6                   14.5             6017   \n",
       "\n",
       "   CKD_prevalence  CKD_Lower 95% CI  CKD_Upper 95% CI  CKD_number  \\\n",
       "0             3.1               2.9               3.3        1326   \n",
       "1             3.2               3.0               3.5        5479   \n",
       "2             4.5               4.2               4.8         887   \n",
       "3             3.3               3.1               3.6         595   \n",
       "4             3.4               3.2               3.7        1507   \n",
       "\n",
       "   Urban_rural_code  \n",
       "0                 3  \n",
       "1                 4  \n",
       "2                 6  \n",
       "3                 2  \n",
       "4                 2  \n",
       "\n",
       "[5 rows x 108 columns]"
      ]
     },
     "execution_count": 13,
     "metadata": {},
     "output_type": "execute_result"
    }
   ],
   "source": [
    "total_data = pd.read_csv(\"https://raw.githubusercontent.com/4GeeksAcademy/regularized-linear-regression-project-tutorial/main/demographic_health_data.csv\")\n",
    "total_data.head()"
   ]
  },
  {
   "cell_type": "code",
   "execution_count": 14,
   "metadata": {},
   "outputs": [
    {
     "name": "stdout",
     "output_type": "stream",
     "text": [
      "<class 'pandas.core.frame.DataFrame'>\n",
      "RangeIndex: 3140 entries, 0 to 3139\n",
      "Columns: 108 entries, fips to Urban_rural_code\n",
      "dtypes: float64(61), int64(45), object(2)\n",
      "memory usage: 2.6+ MB\n"
     ]
    }
   ],
   "source": [
    "total_data.info()"
   ]
  },
  {
   "cell_type": "code",
   "execution_count": 15,
   "metadata": {},
   "outputs": [
    {
     "name": "stdout",
     "output_type": "stream",
     "text": [
      "Columnas eliminadas: ['0-9 y/o % of total pop', '10-19 y/o % of total pop', '20-29 y/o % of total pop', '30-39 y/o % of total pop', '40-49 y/o % of total pop', '50-59 y/o % of total pop', '60-69 y/o % of total pop', '70-79 y/o % of total pop', '80+ y/o % of total pop', '% White-alone', '% Black-alone', '% NA/AI-alone', '% Asian-alone', '% Hawaiian/PI-alone', '% Two or more races', 'Percent of adults with less than a high school diploma 2014-18', 'Percent of adults with a high school diploma only 2014-18', \"Percent of adults completing some college or associate's degree 2014-18\", \"Percent of adults with a bachelor's degree or higher 2014-18\", 'PCTPOVALL_2018', 'PCTPOV017_2018', 'PCTPOV517_2018', 'Unemployment_rate_2018', 'Med_HH_Income_Percent_of_State_Total_2018', 'Percent of Population Aged 60+', 'anycondition_Lower 95% CI', 'anycondition_Upper 95% CI', 'Obesity_Lower 95% CI', 'Obesity_Upper 95% CI', 'Heart disease_Lower 95% CI', 'Heart disease_Upper 95% CI', 'COPD_Lower 95% CI', 'COPD_Upper 95% CI', 'diabetes_Lower 95% CI', 'diabetes_Upper 95% CI', 'CKD_Lower 95% CI', 'CKD_Upper 95% CI']\n",
      "(3140, 71)\n"
     ]
    },
    {
     "data": {
      "application/vnd.microsoft.datawrangler.viewer.v0+json": {
       "columns": [
        {
         "name": "index",
         "rawType": "int64",
         "type": "integer"
        },
        {
         "name": "fips",
         "rawType": "int64",
         "type": "integer"
        },
        {
         "name": "TOT_POP",
         "rawType": "int64",
         "type": "integer"
        },
        {
         "name": "0-9",
         "rawType": "int64",
         "type": "integer"
        },
        {
         "name": "19-Oct",
         "rawType": "int64",
         "type": "integer"
        },
        {
         "name": "20-29",
         "rawType": "int64",
         "type": "integer"
        },
        {
         "name": "30-39",
         "rawType": "int64",
         "type": "integer"
        },
        {
         "name": "40-49",
         "rawType": "int64",
         "type": "integer"
        },
        {
         "name": "50-59",
         "rawType": "int64",
         "type": "integer"
        },
        {
         "name": "60-69",
         "rawType": "int64",
         "type": "integer"
        },
        {
         "name": "70-79",
         "rawType": "int64",
         "type": "integer"
        },
        {
         "name": "80+",
         "rawType": "int64",
         "type": "integer"
        },
        {
         "name": "White-alone pop",
         "rawType": "int64",
         "type": "integer"
        },
        {
         "name": "Black-alone pop",
         "rawType": "int64",
         "type": "integer"
        },
        {
         "name": "Native American/American Indian-alone pop",
         "rawType": "int64",
         "type": "integer"
        },
        {
         "name": "Asian-alone pop",
         "rawType": "int64",
         "type": "integer"
        },
        {
         "name": "Hawaiian/Pacific Islander-alone pop",
         "rawType": "int64",
         "type": "integer"
        },
        {
         "name": "Two or more races pop",
         "rawType": "int64",
         "type": "integer"
        },
        {
         "name": "POP_ESTIMATE_2018",
         "rawType": "int64",
         "type": "integer"
        },
        {
         "name": "N_POP_CHG_2018",
         "rawType": "int64",
         "type": "integer"
        },
        {
         "name": "GQ_ESTIMATES_2018",
         "rawType": "int64",
         "type": "integer"
        },
        {
         "name": "R_birth_2018",
         "rawType": "float64",
         "type": "float"
        },
        {
         "name": "R_death_2018",
         "rawType": "float64",
         "type": "float"
        },
        {
         "name": "R_NATURAL_INC_2018",
         "rawType": "float64",
         "type": "float"
        },
        {
         "name": "R_INTERNATIONAL_MIG_2018",
         "rawType": "float64",
         "type": "float"
        },
        {
         "name": "R_DOMESTIC_MIG_2018",
         "rawType": "float64",
         "type": "float"
        },
        {
         "name": "R_NET_MIG_2018",
         "rawType": "float64",
         "type": "float"
        },
        {
         "name": "Less than a high school diploma 2014-18",
         "rawType": "int64",
         "type": "integer"
        },
        {
         "name": "High school diploma only 2014-18",
         "rawType": "int64",
         "type": "integer"
        },
        {
         "name": "Some college or associate's degree 2014-18",
         "rawType": "int64",
         "type": "integer"
        },
        {
         "name": "Bachelor's degree or higher 2014-18",
         "rawType": "int64",
         "type": "integer"
        },
        {
         "name": "POVALL_2018",
         "rawType": "int64",
         "type": "integer"
        },
        {
         "name": "MEDHHINC_2018",
         "rawType": "int64",
         "type": "integer"
        },
        {
         "name": "CI90LBINC_2018",
         "rawType": "int64",
         "type": "integer"
        },
        {
         "name": "CI90UBINC_2018",
         "rawType": "int64",
         "type": "integer"
        },
        {
         "name": "Civilian_labor_force_2018",
         "rawType": "int64",
         "type": "integer"
        },
        {
         "name": "Employed_2018",
         "rawType": "int64",
         "type": "integer"
        },
        {
         "name": "Unemployed_2018",
         "rawType": "int64",
         "type": "integer"
        },
        {
         "name": "Median_Household_Income_2018",
         "rawType": "int64",
         "type": "integer"
        },
        {
         "name": "Active Physicians per 100000 Population 2018 (AAMC)",
         "rawType": "float64",
         "type": "float"
        },
        {
         "name": "Total Active Patient Care Physicians per 100000 Population 2018 (AAMC)",
         "rawType": "float64",
         "type": "float"
        },
        {
         "name": "Active Primary Care Physicians per 100000 Population 2018 (AAMC)",
         "rawType": "float64",
         "type": "float"
        },
        {
         "name": "Active Patient Care Primary Care Physicians per 100000 Population 2018 (AAMC)",
         "rawType": "float64",
         "type": "float"
        },
        {
         "name": "Active General Surgeons per 100000 Population 2018 (AAMC)",
         "rawType": "float64",
         "type": "float"
        },
        {
         "name": "Active Patient Care General Surgeons per 100000 Population 2018 (AAMC)",
         "rawType": "float64",
         "type": "float"
        },
        {
         "name": "Total nurse practitioners (2019)",
         "rawType": "float64",
         "type": "float"
        },
        {
         "name": "Total physician assistants (2019)",
         "rawType": "float64",
         "type": "float"
        },
        {
         "name": "Total Hospitals (2019)",
         "rawType": "float64",
         "type": "float"
        },
        {
         "name": "Internal Medicine Primary Care (2019)",
         "rawType": "float64",
         "type": "float"
        },
        {
         "name": "Family Medicine/General Practice Primary Care (2019)",
         "rawType": "float64",
         "type": "float"
        },
        {
         "name": "Total Specialist Physicians (2019)",
         "rawType": "float64",
         "type": "float"
        },
        {
         "name": "ICU Beds_x",
         "rawType": "int64",
         "type": "integer"
        },
        {
         "name": "Total Population",
         "rawType": "int64",
         "type": "integer"
        },
        {
         "name": "Population Aged 60+",
         "rawType": "int64",
         "type": "integer"
        },
        {
         "name": "COUNTY_NAME",
         "rawType": "object",
         "type": "string"
        },
        {
         "name": "STATE_NAME",
         "rawType": "object",
         "type": "string"
        },
        {
         "name": "STATE_FIPS",
         "rawType": "int64",
         "type": "integer"
        },
        {
         "name": "CNTY_FIPS",
         "rawType": "int64",
         "type": "integer"
        },
        {
         "name": "county_pop2018_18 and older",
         "rawType": "int64",
         "type": "integer"
        },
        {
         "name": "anycondition_prevalence",
         "rawType": "float64",
         "type": "float"
        },
        {
         "name": "anycondition_number",
         "rawType": "int64",
         "type": "integer"
        },
        {
         "name": "Obesity_prevalence",
         "rawType": "float64",
         "type": "float"
        },
        {
         "name": "Obesity_number",
         "rawType": "int64",
         "type": "integer"
        },
        {
         "name": "Heart disease_prevalence",
         "rawType": "float64",
         "type": "float"
        },
        {
         "name": "Heart disease_number",
         "rawType": "int64",
         "type": "integer"
        },
        {
         "name": "COPD_prevalence",
         "rawType": "float64",
         "type": "float"
        },
        {
         "name": "COPD_number",
         "rawType": "int64",
         "type": "integer"
        },
        {
         "name": "diabetes_prevalence",
         "rawType": "float64",
         "type": "float"
        },
        {
         "name": "diabetes_number",
         "rawType": "int64",
         "type": "integer"
        },
        {
         "name": "CKD_prevalence",
         "rawType": "float64",
         "type": "float"
        },
        {
         "name": "CKD_number",
         "rawType": "int64",
         "type": "integer"
        },
        {
         "name": "Urban_rural_code",
         "rawType": "int64",
         "type": "integer"
        }
       ],
       "conversionMethod": "pd.DataFrame",
       "ref": "c6dee3a2-238c-4e7d-9ed6-914a8a8f2835",
       "rows": [
        [
         "0",
         "1001",
         "55601",
         "6787",
         "7637",
         "6878",
         "7089",
         "7582",
         "7738",
         "5826",
         "4050",
         "2014",
         "42660",
         "10915",
         "267",
         "681",
         "62",
         "1016",
         "55601",
         "158",
         "455",
         "11.8",
         "9.6",
         "2.2",
         "0.0",
         "0.7",
         "0.6",
         "4204",
         "12119",
         "10552",
         "10291",
         "7587",
         "59338",
         "53628",
         "65048",
         "25957",
         "25015",
         "942",
         "59338",
         "217.1",
         "196.7",
         "77.2",
         "71.2",
         "7.6",
         "6.9",
         "28.85913663",
         "6.085785611",
         "1.148905321",
         "25.99256097",
         "21.24906079",
         "72.14215392",
         "6",
         "55036",
         "10523",
         "Autauga",
         "Alabama",
         "1",
         "1",
         "42438",
         "47.6",
         "20181",
         "35.8",
         "15193",
         "7.9",
         "3345",
         "8.6",
         "3644",
         "12.9",
         "5462",
         "3.1",
         "1326",
         "3"
        ],
        [
         "1",
         "1003",
         "218022",
         "24757",
         "26913",
         "23579",
         "25213",
         "27338",
         "29986",
         "29932",
         "20936",
         "9368",
         "190301",
         "19492",
         "1684",
         "2508",
         "146",
         "3891",
         "218022",
         "5403",
         "2190",
         "10.5",
         "10.3",
         "0.1",
         "0.5",
         "24.3",
         "24.8",
         "14310",
         "40579",
         "46025",
         "46075",
         "21069",
         "57588",
         "54437",
         "60739",
         "93849",
         "90456",
         "3393",
         "57588",
         "217.1",
         "196.7",
         "77.2",
         "71.2",
         "7.6",
         "6.9",
         "113.1621137",
         "23.86351236",
         "4.505074295",
         "101.9217303",
         "83.32157211",
         "282.882982",
         "51",
         "203360",
         "53519",
         "Baldwin",
         "Alabama",
         "1",
         "3",
         "170912",
         "40.2",
         "68790",
         "29.7",
         "50761",
         "7.8",
         "13414",
         "8.6",
         "14692",
         "12.0",
         "20520",
         "3.2",
         "5479",
         "4"
        ],
        [
         "2",
         "1005",
         "24881",
         "2732",
         "2960",
         "3268",
         "3201",
         "3074",
         "3278",
         "3076",
         "2244",
         "1048",
         "12209",
         "12042",
         "164",
         "113",
         "46",
         "307",
         "24881",
         "-277",
         "2820",
         "10.4",
         "12.9",
         "-2.5",
         "0.5",
         "-9.1",
         "-8.6",
         "4901",
         "6486",
         "4566",
         "2220",
         "6788",
         "34382",
         "31157",
         "37607",
         "8373",
         "7940",
         "433",
         "34382",
         "217.1",
         "196.7",
         "77.2",
         "71.2",
         "7.6",
         "6.9",
         "12.91423137",
         "2.72334008",
         "0.514125884",
         "11.63146184",
         "9.508783681",
         "32.28303325",
         "5",
         "26201",
         "6150",
         "Barbour",
         "Alabama",
         "1",
         "5",
         "19689",
         "57.5",
         "11325",
         "40.7",
         "8013",
         "11.0",
         "2159",
         "12.1",
         "2373",
         "19.7",
         "3870",
         "4.5",
         "887",
         "6"
        ],
        [
         "3",
         "1007",
         "22400",
         "2456",
         "2596",
         "3029",
         "3113",
         "3038",
         "3115",
         "2545",
         "1723",
         "785",
         "17211",
         "4770",
         "98",
         "53",
         "26",
         "242",
         "22400",
         "-155",
         "2151",
         "11.1",
         "11.4",
         "-0.3",
         "0.4",
         "-7.0",
         "-6.6",
         "2650",
         "7471",
         "3846",
         "1813",
         "4400",
         "46064",
         "41283",
         "50845",
         "8661",
         "8317",
         "344",
         "46064",
         "217.1",
         "196.7",
         "77.2",
         "71.2",
         "7.6",
         "6.9",
         "11.62649342",
         "2.4517832",
         "0.462860006",
         "10.47163479",
         "8.560618723",
         "29.06394215",
         "0",
         "22580",
         "4773",
         "Bibb",
         "Alabama",
         "1",
         "7",
         "17813",
         "51.6",
         "9190",
         "38.7",
         "6894",
         "8.6",
         "1533",
         "10.0",
         "1789",
         "14.1",
         "2511",
         "3.3",
         "595",
         "2"
        ],
        [
         "4",
         "1009",
         "57840",
         "7095",
         "7570",
         "6742",
         "6884",
         "7474",
         "7844",
         "6965",
         "4931",
         "2335",
         "55456",
         "950",
         "378",
         "185",
         "70",
         "801",
         "57840",
         "13",
         "489",
         "11.8",
         "11.4",
         "0.3",
         "0.1",
         "-0.2",
         "0.0",
         "7861",
         "13489",
         "13267",
         "5010",
         "7527",
         "50412",
         "46157",
         "54667",
         "25006",
         "24128",
         "878",
         "50412",
         "217.1",
         "196.7",
         "77.2",
         "71.2",
         "7.6",
         "6.9",
         "30.02126693",
         "6.330854476",
         "1.195170658",
         "27.03925697",
         "22.10474049",
         "75.04725063",
         "6",
         "57667",
         "13600",
         "Blount",
         "Alabama",
         "1",
         "9",
         "44448",
         "46.3",
         "20584",
         "34.0",
         "15112",
         "9.2",
         "4101",
         "10.5",
         "4661",
         "13.5",
         "6017",
         "3.4",
         "1507",
         "2"
        ]
       ],
       "shape": {
        "columns": 71,
        "rows": 5
       }
      },
      "text/html": [
       "<div>\n",
       "<style scoped>\n",
       "    .dataframe tbody tr th:only-of-type {\n",
       "        vertical-align: middle;\n",
       "    }\n",
       "\n",
       "    .dataframe tbody tr th {\n",
       "        vertical-align: top;\n",
       "    }\n",
       "\n",
       "    .dataframe thead th {\n",
       "        text-align: right;\n",
       "    }\n",
       "</style>\n",
       "<table border=\"1\" class=\"dataframe\">\n",
       "  <thead>\n",
       "    <tr style=\"text-align: right;\">\n",
       "      <th></th>\n",
       "      <th>fips</th>\n",
       "      <th>TOT_POP</th>\n",
       "      <th>0-9</th>\n",
       "      <th>19-Oct</th>\n",
       "      <th>20-29</th>\n",
       "      <th>30-39</th>\n",
       "      <th>40-49</th>\n",
       "      <th>50-59</th>\n",
       "      <th>60-69</th>\n",
       "      <th>70-79</th>\n",
       "      <th>...</th>\n",
       "      <th>Obesity_number</th>\n",
       "      <th>Heart disease_prevalence</th>\n",
       "      <th>Heart disease_number</th>\n",
       "      <th>COPD_prevalence</th>\n",
       "      <th>COPD_number</th>\n",
       "      <th>diabetes_prevalence</th>\n",
       "      <th>diabetes_number</th>\n",
       "      <th>CKD_prevalence</th>\n",
       "      <th>CKD_number</th>\n",
       "      <th>Urban_rural_code</th>\n",
       "    </tr>\n",
       "  </thead>\n",
       "  <tbody>\n",
       "    <tr>\n",
       "      <th>0</th>\n",
       "      <td>1001</td>\n",
       "      <td>55601</td>\n",
       "      <td>6787</td>\n",
       "      <td>7637</td>\n",
       "      <td>6878</td>\n",
       "      <td>7089</td>\n",
       "      <td>7582</td>\n",
       "      <td>7738</td>\n",
       "      <td>5826</td>\n",
       "      <td>4050</td>\n",
       "      <td>...</td>\n",
       "      <td>15193</td>\n",
       "      <td>7.9</td>\n",
       "      <td>3345</td>\n",
       "      <td>8.6</td>\n",
       "      <td>3644</td>\n",
       "      <td>12.9</td>\n",
       "      <td>5462</td>\n",
       "      <td>3.1</td>\n",
       "      <td>1326</td>\n",
       "      <td>3</td>\n",
       "    </tr>\n",
       "    <tr>\n",
       "      <th>1</th>\n",
       "      <td>1003</td>\n",
       "      <td>218022</td>\n",
       "      <td>24757</td>\n",
       "      <td>26913</td>\n",
       "      <td>23579</td>\n",
       "      <td>25213</td>\n",
       "      <td>27338</td>\n",
       "      <td>29986</td>\n",
       "      <td>29932</td>\n",
       "      <td>20936</td>\n",
       "      <td>...</td>\n",
       "      <td>50761</td>\n",
       "      <td>7.8</td>\n",
       "      <td>13414</td>\n",
       "      <td>8.6</td>\n",
       "      <td>14692</td>\n",
       "      <td>12.0</td>\n",
       "      <td>20520</td>\n",
       "      <td>3.2</td>\n",
       "      <td>5479</td>\n",
       "      <td>4</td>\n",
       "    </tr>\n",
       "    <tr>\n",
       "      <th>2</th>\n",
       "      <td>1005</td>\n",
       "      <td>24881</td>\n",
       "      <td>2732</td>\n",
       "      <td>2960</td>\n",
       "      <td>3268</td>\n",
       "      <td>3201</td>\n",
       "      <td>3074</td>\n",
       "      <td>3278</td>\n",
       "      <td>3076</td>\n",
       "      <td>2244</td>\n",
       "      <td>...</td>\n",
       "      <td>8013</td>\n",
       "      <td>11.0</td>\n",
       "      <td>2159</td>\n",
       "      <td>12.1</td>\n",
       "      <td>2373</td>\n",
       "      <td>19.7</td>\n",
       "      <td>3870</td>\n",
       "      <td>4.5</td>\n",
       "      <td>887</td>\n",
       "      <td>6</td>\n",
       "    </tr>\n",
       "    <tr>\n",
       "      <th>3</th>\n",
       "      <td>1007</td>\n",
       "      <td>22400</td>\n",
       "      <td>2456</td>\n",
       "      <td>2596</td>\n",
       "      <td>3029</td>\n",
       "      <td>3113</td>\n",
       "      <td>3038</td>\n",
       "      <td>3115</td>\n",
       "      <td>2545</td>\n",
       "      <td>1723</td>\n",
       "      <td>...</td>\n",
       "      <td>6894</td>\n",
       "      <td>8.6</td>\n",
       "      <td>1533</td>\n",
       "      <td>10.0</td>\n",
       "      <td>1789</td>\n",
       "      <td>14.1</td>\n",
       "      <td>2511</td>\n",
       "      <td>3.3</td>\n",
       "      <td>595</td>\n",
       "      <td>2</td>\n",
       "    </tr>\n",
       "    <tr>\n",
       "      <th>4</th>\n",
       "      <td>1009</td>\n",
       "      <td>57840</td>\n",
       "      <td>7095</td>\n",
       "      <td>7570</td>\n",
       "      <td>6742</td>\n",
       "      <td>6884</td>\n",
       "      <td>7474</td>\n",
       "      <td>7844</td>\n",
       "      <td>6965</td>\n",
       "      <td>4931</td>\n",
       "      <td>...</td>\n",
       "      <td>15112</td>\n",
       "      <td>9.2</td>\n",
       "      <td>4101</td>\n",
       "      <td>10.5</td>\n",
       "      <td>4661</td>\n",
       "      <td>13.5</td>\n",
       "      <td>6017</td>\n",
       "      <td>3.4</td>\n",
       "      <td>1507</td>\n",
       "      <td>2</td>\n",
       "    </tr>\n",
       "  </tbody>\n",
       "</table>\n",
       "<p>5 rows × 71 columns</p>\n",
       "</div>"
      ],
      "text/plain": [
       "   fips  TOT_POP    0-9  19-Oct  20-29  30-39  40-49  50-59  60-69  70-79  \\\n",
       "0  1001    55601   6787    7637   6878   7089   7582   7738   5826   4050   \n",
       "1  1003   218022  24757   26913  23579  25213  27338  29986  29932  20936   \n",
       "2  1005    24881   2732    2960   3268   3201   3074   3278   3076   2244   \n",
       "3  1007    22400   2456    2596   3029   3113   3038   3115   2545   1723   \n",
       "4  1009    57840   7095    7570   6742   6884   7474   7844   6965   4931   \n",
       "\n",
       "   ...  Obesity_number  Heart disease_prevalence  Heart disease_number  \\\n",
       "0  ...           15193                       7.9                  3345   \n",
       "1  ...           50761                       7.8                 13414   \n",
       "2  ...            8013                      11.0                  2159   \n",
       "3  ...            6894                       8.6                  1533   \n",
       "4  ...           15112                       9.2                  4101   \n",
       "\n",
       "   COPD_prevalence  COPD_number  diabetes_prevalence  diabetes_number  \\\n",
       "0              8.6         3644                 12.9             5462   \n",
       "1              8.6        14692                 12.0            20520   \n",
       "2             12.1         2373                 19.7             3870   \n",
       "3             10.0         1789                 14.1             2511   \n",
       "4             10.5         4661                 13.5             6017   \n",
       "\n",
       "   CKD_prevalence  CKD_number  Urban_rural_code  \n",
       "0             3.1        1326                 3  \n",
       "1             3.2        5479                 4  \n",
       "2             4.5         887                 6  \n",
       "3             3.3         595                 2  \n",
       "4             3.4        1507                 2  \n",
       "\n",
       "[5 rows x 71 columns]"
      ]
     },
     "execution_count": 15,
     "metadata": {},
     "output_type": "execute_result"
    }
   ],
   "source": [
    "if columns_to_drop := [column for column in total_data.columns if '%' in column or 'Percent' in column or 'rate' in column or column.startswith('PCT')]:\n",
    "    total_data.drop(columns=columns_to_drop, inplace=True)\n",
    "    print(\"Columnas eliminadas:\", columns_to_drop)\n",
    "else:\n",
    "    print(\"No columns matched the criteria for removal.\")\n",
    "print(total_data.shape)\n",
    "total_data.head()"
   ]
  },
  {
   "cell_type": "markdown",
   "metadata": {},
   "source": [
    "# ANALISIS DE VARIABLES CATEGORICAS "
   ]
  },
  {
   "cell_type": "code",
   "execution_count": 16,
   "metadata": {},
   "outputs": [
    {
     "name": "stdout",
     "output_type": "stream",
     "text": [
      "Columnas categóricas:\n",
      "COUNTY_NAME\n",
      "STATE_NAME\n"
     ]
    }
   ],
   "source": [
    "def nombres_columnas_categoricas(total_data):\n",
    "    print(\"Columnas categóricas:\")\n",
    "    for columna in total_data.columns:\n",
    "        if total_data[columna].dtype == 'object' or total_data[columna].dtype.name == 'category':\n",
    "            print(columna)\n",
    "\n",
    "# Llamar a la función con tu DataFrame\n",
    "nombres_columnas_categoricas(total_data)"
   ]
  },
  {
   "cell_type": "code",
   "execution_count": 17,
   "metadata": {},
   "outputs": [
    {
     "data": {
      "image/png": "[encoded data removed]",
      "text/plain": [
       "<Figure size 1000x500 with 2 Axes>"
      ]
     },
     "metadata": {},
     "output_type": "display_data"
    }
   ],
   "source": [
    "import matplotlib.pyplot as plt \n",
    "import seaborn as sns\n",
    "import pandas as pd\n",
    "df = pd.read_csv(\"https://raw.githubusercontent.com/4GeeksAcademy/regularized-linear-regression-project-tutorial/main/demographic_health_data.csv\")\n",
    "def nombres_columnas_categoricas(df):\n",
    "    return [col for col in df.columns if df[col].dtype == 'object' or df[col].dtype.name == 'category']\n",
    "columnas_categoricas_modelo = nombres_columnas_categoricas(df)\n",
    "columnas_categoricas = [col for col in columnas_categoricas_modelo if col in df.columns]\n",
    "if not columnas_categoricas:\n",
    "    print(\"No se encontraron columnas categóricas en el DataFrame.\")\n",
    "else:\n",
    "    fig, axis = plt.subplots(1, len(columnas_categoricas), figsize=(5 * len(columnas_categoricas), 5))\n",
    "    if len(columnas_categoricas) == 1:\n",
    "        axis = [axis]\n",
    "\n",
    "    for i, col in enumerate(columnas_categoricas):\n",
    "        sns.histplot(ax=axis[i], data=df, x=col).set(ylabel=None)\n",
    "        axis[i].set_title(col)\n",
    "    plt.tight_layout()\n",
    "    plt.show()"
   ]
  },
  {
   "cell_type": "markdown",
   "metadata": {},
   "source": [
    "### conclusiones: \n",
    "- Gráfico de county_name: Este gráfico muestra la distribución de los nombres de los condados. Es probable que algunos condados aparezcan con mayor frecuencia, lo que podría indicar que los datos están concentrados en ciertas áreas geográficas. \n",
    "- Gráfico de state_name: Este gráfico representa la frecuencia de los nombres de los estados. Si un estado tiene una barra significativamente más alta, indica que los datos están dominados por ese estado en particular. Esto podría ser relevante si el análisis busca una representación equitativa entre estados."
   ]
  },
  {
   "cell_type": "code",
   "execution_count": 18,
   "metadata": {},
   "outputs": [],
   "source": [
    "df.drop_duplicates(inplace=True)"
   ]
  },
  {
   "cell_type": "code",
   "execution_count": 19,
   "metadata": {},
   "outputs": [
    {
     "name": "stdout",
     "output_type": "stream",
     "text": [
      "there are no duplicates anymore in my dataset, yuhuuuu\n"
     ]
    }
   ],
   "source": [
    "# ahora voy a eliminar datos duplicados que me desvirtúan el análisis para el modelo\n",
    "if df.duplicated().any():\n",
    "    df = df.drop_duplicates()\n",
    "    print(\"duplicates are removed\")\n",
    "else:\n",
    "    print(\"there are no duplicates anymore in my dataset, yuhuuuu\")"
   ]
  },
  {
   "cell_type": "markdown",
   "metadata": {},
   "source": [
    "# ANÁLISIS DE VARIABLES NUMÉRICAS"
   ]
  },
  {
   "cell_type": "code",
   "execution_count": 23,
   "metadata": {},
   "outputs": [
    {
     "name": "stdout",
     "output_type": "stream",
     "text": [
      "Las columnas numéricas en el dataset son:\n",
      "1. age\n",
      "2. duration\n",
      "3. campaign\n",
      "4. pdays\n",
      "5. previous\n",
      "6. emp.var.rate\n",
      "7. cons.price.idx\n",
      "8. cons.conf.idx\n",
      "9. euribor3m\n",
      "10. nr.employed\n",
      "11. y\n"
     ]
    }
   ],
   "source": [
    "# Identificar las columnas numéricas\n",
    "columnas_numericas = df.select_dtypes(include=['number']).columns.tolist()\n",
    "\n",
    "# Imprimir las columnas numéricas\n",
    "print(\"Las columnas numéricas en el dataset son:\")\n",
    "for i, columna in enumerate(columnas_numericas, start=1):\n",
    "    print(f\"{i}. {columna}\")"
   ]
  },
  {
   "cell_type": "code",
   "execution_count": 26,
   "metadata": {},
   "outputs": [
    {
     "data": {
      "image/png": "[encoded data removed]",
      "text/plain": [
       "<Figure size 1500x1200 with 15 Axes>"
      ]
     },
     "metadata": {},
     "output_type": "display_data"
    },
    {
     "data": {
      "image/png": "[encoded data removed]",
      "text/plain": [
       "<Figure size 1500x1200 with 15 Axes>"
      ]
     },
     "metadata": {},
     "output_type": "display_data"
    }
   ],
   "source": [
    "import matplotlib.pyplot as plt\n",
    "import seaborn as sns\n",
    "columnas_numericas = [col for col in df.select_dtypes(include=['number']).columns if df[col].notna().sum() > 0]\n",
    "num_columnas = len(columnas_numericas)\n",
    "filas = (num_columnas // 5) + (1 if num_columnas % 5 != 0 else 0)\n",
    "fig, axis = plt.subplots(filas, 5, figsize=(15, 4 * filas)) \n",
    "axis = axis.flatten() \n",
    "for i, col in enumerate(columnas_numericas):\n",
    "    sns.histplot(data=df, x=col, ax=axis[i], color='lightgreen', kde=True).set(ylabel=None)  \n",
    "    axis[i].set_title(f\"Distribución de {col}\")\n",
    "for j in range(len(columnas_numericas), len(axis)):\n",
    "    axis[j].set_visible(False)\n",
    "plt.tight_layout()\n",
    "plt.show()\n",
    "fig, axis = plt.subplots(filas, 5, figsize=(15, 4 * filas))  \n",
    "axis = axis.flatten() \n",
    "for i, col in enumerate(columnas_numericas):\n",
    "    sns.boxplot(data=df, x=col, ax=axis[i]).set(ylabel=None)\n",
    "    axis[i].set_title(f\"Boxplot de {col}\")\n",
    "for j in range(len(columnas_numericas), len(axis)):\n",
    "    axis[j].set_visible(False)\n",
    "plt.tight_layout()\n",
    "plt.show()"
   ]
  },
  {
   "cell_type": "markdown",
   "metadata": {},
   "source": [
    "# ANALISIS DE VARIABLES MULTIVARIANTE"
   ]
  },
  {
   "cell_type": "code",
   "execution_count": null,
   "metadata": {},
   "outputs": [],
   "source": [
    "import matplotlib.pyplot as plt\n",
    "import seaborn as sns\n",
    "import pandas as pd\n",
    "df = pd.read_csv(\"https://raw.githubusercontent.com/4GeeksAcademy/logistic-regression-project-tutorial/main/bank-marketing-campaign-data.csv\", sep = \";\")\n",
    "# Identificar las columnas numéricas y la variable objetivo\n",
    "columnas_numericas = [col for col in df.select_dtypes(include=['number']).columns if df[col].notna().sum() > 0]\n",
    "\n",
    "target = 'y'\n",
    "# Convertir la variable objetivo a valores numéricos\n",
    "df[target] = df[target].apply(lambda x: 1 if x == 'yes' else 0)\n",
    "# Crear subplots dinámicamente basado en el número de variables numéricas\n",
    "num_plots = len(columnas_numericas)\n",
    "fig, axis = plt.subplots((num_plots + 3) // 4, 4, figsize=(20, (num_plots + 3) // 4 * 5))\n",
    "# Aplanar la matriz de ejes para un acceso más fácil\n",
    "axis = axis.flatten()\n",
    "# Crear un diagrama de dispersión para cada variable numérica con la variable objetivo `y`\n",
    "for i, col in enumerate(columnas_numericas):\n",
    "    sns.regplot(ax=axis[i], data=df, x=col, y=target).set(ylabel=None)\n",
    "    axis[i].set_title(f'{col} vs {target}')\n",
    "# Eliminar los ejes vacíos\n",
    "for j in range(len(columnas_numericas), len(axis)):\n",
    "    fig.delaxes(axis[j])\n",
    "import seaborn as sns\n",
    "import pandas as pd\n",
    "\n",
    "df = pd.read_csv(\"https://raw.githubusercontent.com/4GeeksAcademy/logistic-regression-project-tutorial/main/bank-marketing-campaign-data.csv\", sep=\";\")\n",
    "columnas_numericas = [col for col in df.select_dtypes(include=['number']).columns if df[col].notna().sum() > 0]\n",
    "\n",
    "target = 'y'\n",
    "df[target] = df[target].apply(lambda x: 1 if x == 'yes' else 0)\n",
    "num_plots = len(columnas_numericas)\n",
    "filas = (num_plots + 3) // 4  \n",
    "fig, axis = plt.subplots(filas, 4, figsize=(20, filas * 5)) \n",
    "\n",
    "axis = axis.flatten()\n",
    "for i, col in enumerate(columnas_numericas):\n",
    "    sns.regplot(ax=axis[i], data=df, x=col, y=target, logistic=True, ci=None).set(ylabel=None)  # `logistic=True` para regresión logística\n",
    "    axis[i].set_title(f'{col} vs {target}')\n",
    "for j in range(len(columnas_numericas), len(axis)):\n",
    "    fig.delaxes(axis[j])\n",
    "plt.tight_layout()\n",
    "plt.show()\n",
    "plt.tight_layout()\n",
    "plt.show()"
   ]
  },
  {
   "cell_type": "markdown",
   "metadata": {},
   "source": [
    "CONCLUSIONES : age vs y: La probabilidad de aceptación varía según la edad, siendo mayor en ciertos grupos como personas mayores.\n",
    "duration vs y: Cuanto más larga sea la llamada, mayor es la probabilidad de que el cliente acepte la oferta.\n",
    "campaign vs y: Un número muy alto de contactos durante la campaña podría reducir la probabilidad de aceptación debido a la saturación del cliente.\n",
    "pdays vs y: Clientes contactados recientemente tienen una mayor probabilidad de aceptar la oferta.\n",
    "previous vs y: Un mayor número de contactos previos está asociado con una mayor probabilidad de aceptación.\n",
    "emp.var.rate vs y: Una menor variación en la tasa de empleo está relacionada con una mayor probabilidad de aceptación.\n",
    "cons.price.idx vs y: El índice de precios al consumidor no muestra una relación clara con la probabilidad de aceptación.\n",
    "cons.conf.idx vs y: Una menor confianza del consumidor parece estar asociada con una mayor probabilidad de aceptación.\n",
    "euribor3m vs y: Tasas Euribor más bajas están relacionadas con una mayor probabilidad de aceptación.\n",
    "nr.employed vs y: Un menor número de empleados está asociado con una mayor probabilidad de aceptación."
   ]
  },
  {
   "cell_type": "markdown",
   "metadata": {},
   "source": [
    "VARIABLES CATEGORICO - CATEGORICO"
   ]
  },
  {
   "cell_type": "code",
   "execution_count": null,
   "metadata": {},
   "outputs": [],
   "source": [
    "import matplotlib.pyplot as plt\n",
    "import seaborn as sns\n",
    "import pandas as pd\n",
    "# Cargar los datos\n",
    "df = pd.read_csv(\"https://raw.githubusercontent.com/4GeeksAcademy/logistic-regression-project-tutorial/main/bank-marketing-campaign-data.csv\", sep = \";\")\n",
    "# Identificar las columnas categóricas\n",
    "columnas_categoricas = ['job', 'marital', 'education', 'default', 'housing', 'loan', 'contact', 'month', 'day_of_week', 'poutcome']\n",
    "# Crear subplots dinámicamente basado en el número de variables categóricas\n",
    "num_plots = len(columnas_categoricas)\n",
    "fig, axis = plt.subplots((num_plots + 3) // 4, 4, figsize=(20, (num_plots + 3) // 4 * 5))\n",
    "# Aplanar la matriz de ejes para un acceso más fácil\n",
    "axis = axis.flatten()\n",
    "# Crear un gráfico de conteo para cada variable categórica con la variable objetivo `y`\n",
    "for i, col in enumerate(columnas_categoricas):\n",
    "    sns.countplot(data=df, x=col, hue=\"y\", ax=axis[i])\n",
    "    axis[i].set_title(f'{col} vs y')\n",
    "# Eliminar los ejes vacíos\n",
    "for j in range(len(columnas_categoricas), len(axis)):\n",
    "    fig.delaxes(axis[j])\n",
    "# Ajustar el layout\n",
    "plt.tight_layout()\n",
    "# Mostrar el plot\n",
    "plt.show()"
   ]
  },
  {
   "cell_type": "markdown",
   "metadata": {},
   "source": [
    "job: Trabajos como \"student\" y \"retired\" tienen mayor aceptación (y=1), mientras que \"blue-collar\" tiene menor aceptación.\n",
    "marital: Los solteros (single) aceptan más que los casados (married) o divorciados (divorced).\n",
    "education: Niveles educativos altos (como \"university degree\") tienen mayor aceptación.\n",
    "default: Clientes sin historial de incumplimiento (default=no) aceptan más.\n",
    "housing: Clientes sin hipoteca (housing=no) tienen mayor aceptación.\n",
    "loan: Clientes sin préstamos personales (loan=no) aceptan más.\n",
    "contact: Contactos por móvil (contact=cellular) tienen mayor aceptación.\n",
    "month: Meses como marzo (mar) y diciembre (dec) tienen mayor aceptación.\n",
    "day_of_week: El día de la semana no tiene un impacto significativo.\n",
    "poutcome: Resultados previos exitosos (poutcome=success) están fuertemente asociados con mayor aceptación.\n",
    "Resumen:"
   ]
  },
  {
   "cell_type": "markdown",
   "metadata": {},
   "source": [
    "ANÁLISIS NUMÉRICO - CATEGÓRICO"
   ]
  },
  {
   "cell_type": "code",
   "execution_count": null,
   "metadata": {},
   "outputs": [],
   "source": [
    "import matplotlib.pyplot as plt\n",
    "import seaborn as sns\n",
    "import pandas as pd\n",
    "\n",
    "# Cargar los datos\n",
    "DATOS = '/workspaces/13-PILAR-MACHINELEARNING/DATOS.csv'\n",
    "\n",
    "# Identificar las columnas categóricas, numéricas y la variable objetivo\n",
    "columnas_categoricas = ['job', 'marital', 'education', 'default', 'housing', 'loan', 'contact', 'month', 'day_of_week', 'poutcome']\n",
    "columnas_numericas = ['age', 'duration', 'campaign', 'pdays', 'previous', 'emp.var.rate', 'cons.price.idx', 'cons.conf.idx', 'euribor3m', 'nr.employed']\n",
    "target = 'y'\n",
    "\n",
    "# Convertir la variable objetivo a valores numéricos\n",
    "df[target] = df[target].apply(lambda x: 1 if x == 'yes' else 0)\n",
    "\n",
    "# Factorizar las variables categóricas\n",
    "for col in columnas_categoricas:\n",
    "    df[col] = pd.factorize(df[col])[0]\n",
    "\n",
    "# Crear el heatmap con las variables categóricas, numéricas y la variable objetivo\n",
    "fig, axes = plt.subplots(figsize=(15, 15))\n",
    "sns.heatmap(df[columnas_categoricas + columnas_numericas + [target]].corr(), annot=True, fmt=\".2f\", cmap=\"coolwarm\")\n",
    "plt.title(\"Mapa de calor de las correlaciones\")\n",
    "plt.tight_layout()\n",
    "\n",
    "# Mostrar el gráfico\n",
    "plt.show()"
   ]
  },
  {
   "cell_type": "markdown",
   "metadata": {},
   "source": [
    "CONCLUSIONES de la correlacion: duration y y: Existe una fuerte correlación positiva entre la duración de la llamada y la aceptación de la oferta (y). Es la variable más relevante para predecir el éxito.\n",
    "\n",
    "euribor3m y y: Correlación negativa moderada. Tasas más bajas están asociadas con una mayor probabilidad de aceptación.\n",
    "\n",
    "emp.var.rate y y: Correlación negativa moderada. Una menor variación en la tasa de empleo está relacionada con una mayor aceptación.\n",
    "\n",
    "Otras variables numéricas: Variables como age, campaign, y pdays tienen correlaciones débiles con y, lo que indica que su impacto es menor.\n",
    "\n",
    "Variables categóricas: Las variables categóricas factorizadas tienen correlaciones bajas con y, pero podrían ser útiles en combinación con otras variables en un modelo.\n",
    "\n",
    "Resumen:\n",
    "La variable más importante es duration, seguida de euribor3m y emp.var.rate. Las demás variables tienen menor impacto directo en la aceptación (y)."
   ]
  },
  {
   "cell_type": "code",
   "execution_count": null,
   "metadata": {},
   "outputs": [],
   "source": [
    "import matplotlib.pyplot as plt\n",
    "import seaborn as sns\n",
    "import pandas as pd\n",
    "\n",
    "# Cargar los datos\n",
    "df = pd.read_csv(\"https://raw.githubusercontent.com/4GeeksAcademy/regularized-linear-regression-project-tutorial/main/demographic_health_data.csv\")\n",
    "\n",
    "# Identificar las columnas categóricas\n",
    "columnas_categoricas = [col for col in df.columns if df[col].dtype == 'object' or df[col].dtype.name == 'category']\n",
    "\n",
    "# Verificar si hay columnas categóricas\n",
    "if not columnas_categoricas:\n",
    "    print(\"No se encontraron columnas categóricas en el DataFrame.\")\n",
    "else:\n",
    "    # Crear subplots dinámicamente basado en el número de variables categóricas\n",
    "    num_plots = len(columnas_categoricas)\n",
    "    filas = (num_plots + 3) // 4  # Calcular el número de filas necesarias (máximo 4 gráficos por fila)\n",
    "    fig, axis = plt.subplots(filas, 4, figsize=(20, filas * 5))  # Ajustar el tamaño según el número de filas\n",
    "\n",
    "    # Aplanar la matriz de ejes para un acceso más fácil\n",
    "    axis = axis.flatten()\n",
    "\n",
    "    # Crear un gráfico de conteo para cada variable categórica\n",
    "    for i, col in enumerate(columnas_categoricas):\n",
    "        sns.countplot(data=df, x=col, ax=axis[i])\n",
    "        axis[i].set_title(f'Distribución de {col}')\n",
    "        axis[i].tick_params(axis='x', rotation=45)  # Rotar etiquetas para mejor visualización si es necesario\n",
    "\n",
    "    # Eliminar los ejes vacíos\n",
    "    for j in range(len(columnas_categoricas), len(axis)):\n",
    "        fig.delaxes(axis[j])\n",
    "\n",
    "    # Ajustar el layout\n",
    "    plt.tight_layout()\n",
    "\n",
    "    # Mostrar el plot\n",
    "    plt.show()"
   ]
  },
  {
   "cell_type": "markdown",
   "metadata": {},
   "source": [
    "# INGENIERIA DE FUNCIONES"
   ]
  },
  {
   "cell_type": "code",
   "execution_count": null,
   "metadata": {},
   "outputs": [],
   "source": [
    "import pandas as pd\n",
    "\n",
    "total_data = pd.read_csv(\"https://raw.githubusercontent.com/4GeeksAcademy/regularized-linear-regression-project-tutorial/main/demographic_health_data.csv\", sep = \",\")\n",
    "total_data = total_data.drop_duplicates().reset_index(drop = True)\n",
    "total_data.head()"
   ]
  },
  {
   "cell_type": "code",
   "execution_count": null,
   "metadata": {},
   "outputs": [],
   "source": [
    "from sklearn.preprocessing import StandardScaler\n",
    "\n",
    "data_types = total_data.dtypes\n",
    "numeric_columns = [c for c in list(data_types[data_types != \"object\"].index) if c != \"Heart disease_number\"]\n",
    "\n",
    "scaler = StandardScaler()\n",
    "norm_features = scaler.fit_transform(total_data[numeric_columns])\n",
    "\n",
    "# Create a new DataFrame with the scaled numerical variables\n",
    "total_data_scal = pd.DataFrame(norm_features, index = total_data.index, columns = numeric_columns)\n",
    "total_data_scal[\"Heart disease_number\"] = total_data[\"Heart disease_number\"]\n",
    "total_data_scal.head()"
   ]
  },
  {
   "cell_type": "code",
   "execution_count": null,
   "metadata": {},
   "outputs": [],
   "source": [
    "from sklearn.model_selection import train_test_split\n",
    "from sklearn.feature_selection import SelectKBest, f_regression\n",
    "\n",
    "X = total_data_scal.drop(columns=[\"Heart disease_number\"])\n",
    "y = total_data_scal[\"Heart disease_number\"]\n",
    "X_train, X_test, y_train, y_test = train_test_split(X, y, test_size = 0.2, random_state = 42)\n",
    "train_indices = list(X_train.index)\n",
    "test_indices = list(X_test.index)\n",
    "\n",
    "k = int(len(X_train.columns) * 0.3)\n",
    "selection_model = SelectKBest(score_func = f_regression, k = k)\n",
    "selection_model.fit(X_train, y_train)\n",
    "ix = selection_model.get_support()\n",
    "\n",
    "X_train_sel = pd.DataFrame(selection_model.transform(X_train), columns = X_train.columns.values[ix])\n",
    "X_test_sel = pd.DataFrame(selection_model.transform(X_test), columns = X_test.columns.values[ix])\n",
    "\n",
    "X_train_sel.head()"
   ]
  },
  {
   "cell_type": "code",
   "execution_count": null,
   "metadata": {},
   "outputs": [],
   "source": [
    "X_test_sel.head()"
   ]
  },
  {
   "cell_type": "code",
   "execution_count": null,
   "metadata": {},
   "outputs": [],
   "source": [
    "X_train_sel[\"Heart disease_number\"] = list(y_train)\n",
    "X_test_sel[\"Heart disease_number\"] = list(y_test)\n",
    "\n",
    "X_train_sel.to_csv(\"../data/processed/clean_train.csv\", index = False)\n",
    "X_test_sel.to_csv(\"../data/processed/clean_test.csv\", index = False)\n",
    "total_data = pd.concat([X_train_sel, X_test_sel])\n",
    "total_data.head()"
   ]
  },
  {
   "cell_type": "code",
   "execution_count": null,
   "metadata": {},
   "outputs": [],
   "source": [
    "X_test_sel.head()"
   ]
  },
  {
   "cell_type": "markdown",
   "metadata": {},
   "source": [
    "# MODELO DE REGRESION LOGISTICA"
   ]
  },
  {
   "cell_type": "code",
   "execution_count": null,
   "metadata": {},
   "outputs": [],
   "source": [
    "train_data = pd.read_csv(\"../data/processed/clean_train.csv\")\n",
    "test_data = pd.read_csv(\"../data/processed/clean_test.csv\")\n",
    "\n",
    "train_data.head()"
   ]
  },
  {
   "cell_type": "code",
   "execution_count": null,
   "metadata": {},
   "outputs": [],
   "source": [
    "X_train = train_data.drop([\"Heart disease_number\"], axis = 1)\n",
    "y_train = train_data[\"Heart disease_number\"]\n",
    "X_test = test_data.drop([\"Heart disease_number\"], axis = 1)\n",
    "y_test = test_data[\"Heart disease_number\"]"
   ]
  },
  {
   "cell_type": "markdown",
   "metadata": {},
   "source": [
    "APLICO LA REGRESION LOGISTICA"
   ]
  },
  {
   "cell_type": "code",
   "execution_count": null,
   "metadata": {},
   "outputs": [],
   "source": [
    "from sklearn.linear_model import LogisticRegression\n",
    "\n",
    "model = LogisticRegression()\n",
    "model.fit(X_train, y_train)"
   ]
  },
  {
   "cell_type": "code",
   "execution_count": null,
   "metadata": {},
   "outputs": [],
   "source": [
    "print(f\"Intercep (a): {model.intercept_}\")\n",
    "print(f\"Coefficients: {model.coef_}\")"
   ]
  },
  {
   "cell_type": "code",
   "execution_count": null,
   "metadata": {},
   "outputs": [],
   "source": [
    "y_pred = model.predict(X_test)\n",
    "y_pred"
   ]
  },
  {
   "cell_type": "code",
   "execution_count": null,
   "metadata": {},
   "outputs": [],
   "source": [
    "from sklearn.metrics import mean_squared_error, r2_score\n",
    "\n",
    "print(f\"MSE: {mean_squared_error(y_test, y_pred)}\")\n",
    "print(f\"R2 Score: {r2_score(y_test, y_pred)}\")"
   ]
  },
  {
   "cell_type": "markdown",
   "metadata": {},
   "source": [
    "# AHORA OPTIMIZO MODELO"
   ]
  },
  {
   "cell_type": "code",
   "execution_count": null,
   "metadata": {},
   "outputs": [],
   "source": [
    "from sklearn.linear_model import Lasso\n",
    "\n",
    "alpha = 1.0\n",
    "lasso_model = Lasso(alpha = alpha)\n",
    "\n",
    "# Training the model\n",
    "lasso_model.fit(X_train, y_train)\n",
    "\n",
    "# We evaluate the performance of the model on the test data\n",
    "score = lasso_model.score(X_test, y_test)\n",
    "print(\"Coefficients:\", lasso_model.coef_)\n",
    "print(\"R2 score:\", score)"
   ]
  },
  {
   "cell_type": "code",
   "execution_count": null,
   "metadata": {},
   "outputs": [],
   "source": [
    "from pickle import dump\n",
    "\n",
    "dump(lasso_model, open(\"../models/lasso_alpha-1.0.sav\", \"wb\"))"
   ]
  }
 ],
 "metadata": {
  "kernelspec": {
   "display_name": "Python 3",
   "language": "python",
   "name": "python3"
  },
  "language_info": {
   "codemirror_mode": {
    "name": "ipython",
    "version": 3
   },
   "file_extension": ".py",
   "mimetype": "text/x-python",
   "name": "python",
   "nbconvert_exporter": "python",
   "pygments_lexer": "ipython3",
   "version": "3.11.4"
  }
 },
 "nbformat": 4,
 "nbformat_minor": 2
}
